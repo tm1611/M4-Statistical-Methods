{
 "cells": [
  {
   "cell_type": "markdown",
   "metadata": {},
   "source": [
    "# Deep Learning with Python (Chollet)\n",
    "\n",
    "## 6.2 Understanding recurrent neural networks\n",
    "\n",
    "Densely connected networks and convnets have no memory and each input is processed independently. \n",
    "\n",
    "- Relation between inputs is not adequately capture here.\n",
    "\n",
    "The input consists of a single data point that is given to the network at once. In the IMDB example an entire movie review was transformed into a single large vector and processed in one go. Such networks are called *feedforward networks*. \n",
    "\n",
    "But if the temporal or sequential order matters, which it does when reading a text or considering time series, this is not an adequate way to express the data inputs. \n",
    "\n",
    "- When reading (text analysis): Previous words and the respective sentence structure are kept in memory to get a representation of the meaning conveyed over the sequence of one sentence.  \n",
    "- In time series: It is the main characteristic of the time series that data points are not happening at the same time but sequentially. \n",
    "\n",
    "> A **recurrent neural network (RNN)** processes sequences by iterating through the sequence elements and maintains a *state* containing information relative to what is has seen so far. \n",
    "\n",
    "RNN is a type of neural network that has an internal loop, the input is processed in an iterative way.\n",
    "\n",
    "<img src=\"../images/fig_6_9.png\" width=\"60%\">\n",
    "\n",
    "- State of RNN resets between processing two different, independent sequences. \n",
    "- What changes: Data point is not longer processed in a single step; the network internally loops over sequence elements. \n",
    "\n",
    "Clarify notions of *loop* and *state* by implementing the forward pass of a toy RNN in Numpy. \n",
    "\n",
    "- RNN takes as input a sequence of vectors, which will be encoded as a 2D tensor of size `(timesteps, input_features)`\n",
    "- It loops over timesteps, and at each step, it coniders its current state at t and the input at t \n",
    " - of shape `(input_features,)` and combines them to obtain the output at t. \n",
    "- Then, the state for the next step is set to be this previous output. \n",
    "- No previous output for first timestep (initial state is zero)\n",
    "\n",
    "```python\n",
    "# pseudocode\n",
    "state_t = 0\n",
    "\n",
    "for input_t in input_sequence:\n",
    "    output_t = f(input_t, state_t)\n",
    "    state_t = output_t\n",
    "```\n",
    "\n",
    "- f is an activation function: transformation of the input and state into an output parametrized by two matrices, W and U, and a bias vector b. \n",
    "\n",
    "```python\n",
    "# pseudocode\n",
    "state_t = 0\n",
    "\n",
    "for input_t in input_sequence: \n",
    "    output_t = activation(dot(W, input_t) + dot(U, state_t) + b)\n",
    "    state_t = output_t\n",
    "\n",
    "```\n",
    "--- "
   ]
  },
  {
   "cell_type": "code",
   "execution_count": 30,
   "metadata": {},
   "outputs": [
    {
     "name": "stdout",
     "output_type": "stream",
     "text": [
      "Shape of inputs:  (100, 32)\n",
      "Shape of state vector:  (64,)\n",
      "Length of outputs:  100\n",
      "(6400,)\n"
     ]
    }
   ],
   "source": [
    "# numpy implementation\n",
    "import numpy as np \n",
    "\n",
    "timesteps = 100\n",
    "input_features = 32 # dimensionality of input feature space\n",
    "output_features = 64 # dimensionality of output feature space\n",
    "\n",
    "# input data: random noise for the example\n",
    "inputs = np.random.random((timesteps, input_features))\n",
    "print(\"Shape of inputs: \", inputs.shape)\n",
    "\n",
    "state_t = np.zeros((output_features,)) # an all-zero vector\n",
    "print(\"Shape of state vector: \",state_t.shape)\n",
    "\n",
    "W = np.random.random((output_features, input_features))\n",
    "U = np.random.random((output_features, output_features))\n",
    "b = np.random.random((output_features,))\n",
    "\n",
    "successive_outputs = []\n",
    "\n",
    "for input_t in inputs: \n",
    "    output_t = np.tanh(np.dot(W, input_t) + np.dot(U, state_t) + b)\n",
    "    successive_outputs.append(output_t)\n",
    "    state_t = output_t # updates the state of the network for next timestep\n",
    "    \n",
    "print(\"Length of outputs: \", len(successive_outputs))\n",
    "\n",
    "final_output_sequence = np.concatenate(successive_outputs, axis=0)\n",
    "print(final_output_sequence.shape)"
   ]
  },
  {
   "cell_type": "markdown",
   "metadata": {},
   "source": [
    "In summary, an RNN is a `for`loop that reuses quantities computed during the previous iteration of the loop, nothing more. \n",
    "\n",
    "RNNs are characterized by their step function (same as activation function?) Here, this is\n",
    "```python\n",
    "output_t = np.tanh(np.dot(W, input_t) + np.dot(U, state_t) + b)\n",
    "```\n",
    "\n",
    "The final output is a 2D tensor of shape `(timesteps, output_features)`, where each timestep is the output of the loop at time t. Each timestep t in the output tensor contains infomration about timesteps 0 to t in the input sequence - about the entire past. Hence, in many cases, we don't need the full sequence of outputs and just the last output (`output_t` at the end of the loop) because it already contains information about the entire sequence. \n",
    "\n",
    "## A recurrent layer in Keras\n",
    "\n",
    "Using `SimpleRNN` layer. Note that this layer processe batches of sequences, not a single sequence as in the example above. \n",
    "\n",
    "- Inputs of shape: `(batch_size, timesteps, input_features)\n",
    "\n",
    "Links: \n",
    "\n",
    "- `keras.layers.SimpleRNN()`: Fully-connected RNN where the output is to be fed back to input [(link)](https://keras.io/layers/recurrent/).\n",
    "- `keras.layers.Embedding()`: Turns positive integers (indexes) into dense vectors of fixed size, e.g. `[[4], [20]]` $\\rightarrow$ `[[0.25, 0.1], [0.6, -0.2]]`\n",
    " - This layer can only be used as the first layer in a model. \n",
    " \n",
    " \n",
    " "
   ]
  },
  {
   "cell_type": "markdown",
   "metadata": {},
   "source": [
    "#### Example that uses `SimpleRNN` and returns only the output at the last timestep.\n",
    "\n",
    "- returns only the last output for each input sequence, a 2D tensor of shape `(batch_size, output_features)`"
   ]
  },
  {
   "cell_type": "code",
   "execution_count": 31,
   "metadata": {},
   "outputs": [
    {
     "name": "stderr",
     "output_type": "stream",
     "text": [
      "Using TensorFlow backend.\n"
     ]
    },
    {
     "name": "stdout",
     "output_type": "stream",
     "text": [
      "_________________________________________________________________\n",
      "Layer (type)                 Output Shape              Param #   \n",
      "=================================================================\n",
      "embedding_1 (Embedding)      (None, None, 32)          320000    \n",
      "_________________________________________________________________\n",
      "simple_rnn_1 (SimpleRNN)     (None, 32)                2080      \n",
      "=================================================================\n",
      "Total params: 322,080\n",
      "Trainable params: 322,080\n",
      "Non-trainable params: 0\n",
      "_________________________________________________________________\n"
     ]
    }
   ],
   "source": [
    "from keras.models import Sequential\n",
    "from keras.layers import SimpleRNN, Embedding\n",
    "model = Sequential()\n",
    "model.add(Embedding(10000, 32))\n",
    "model.add(SimpleRNN(32))\n",
    "model.summary()"
   ]
  },
  {
   "cell_type": "markdown",
   "metadata": {},
   "source": [
    "#### Example that returns the full state sequence\n",
    "\n",
    "- returns full sequences of successive outputs for each timestep (a 3D tensor of shape `(batch_size, timesteps, output_features)`\n",
    "- see output shape of last layer"
   ]
  },
  {
   "cell_type": "code",
   "execution_count": 32,
   "metadata": {},
   "outputs": [
    {
     "name": "stdout",
     "output_type": "stream",
     "text": [
      "_________________________________________________________________\n",
      "Layer (type)                 Output Shape              Param #   \n",
      "=================================================================\n",
      "embedding_2 (Embedding)      (None, None, 32)          320000    \n",
      "_________________________________________________________________\n",
      "simple_rnn_2 (SimpleRNN)     (None, None, 32)          2080      \n",
      "=================================================================\n",
      "Total params: 322,080\n",
      "Trainable params: 322,080\n",
      "Non-trainable params: 0\n",
      "_________________________________________________________________\n"
     ]
    }
   ],
   "source": [
    "model = Sequential()\n",
    "model.add(Embedding(10000, 32))\n",
    "model.add(SimpleRNN(32, return_sequences=True))\n",
    "model.summary()"
   ]
  },
  {
   "cell_type": "markdown",
   "metadata": {},
   "source": [
    "Sometimes it's useful to stack several recurrent layers one after the other in order to incraese the representational power of a network. In such a setup, you have to get all of the intermediate layers to return full sequence of outputs. "
   ]
  },
  {
   "cell_type": "code",
   "execution_count": 33,
   "metadata": {},
   "outputs": [
    {
     "name": "stdout",
     "output_type": "stream",
     "text": [
      "_________________________________________________________________\n",
      "Layer (type)                 Output Shape              Param #   \n",
      "=================================================================\n",
      "embedding_3 (Embedding)      (None, None, 32)          320000    \n",
      "_________________________________________________________________\n",
      "simple_rnn_3 (SimpleRNN)     (None, None, 32)          2080      \n",
      "_________________________________________________________________\n",
      "simple_rnn_4 (SimpleRNN)     (None, None, 32)          2080      \n",
      "_________________________________________________________________\n",
      "simple_rnn_5 (SimpleRNN)     (None, None, 32)          2080      \n",
      "_________________________________________________________________\n",
      "simple_rnn_6 (SimpleRNN)     (None, 32)                2080      \n",
      "=================================================================\n",
      "Total params: 328,320\n",
      "Trainable params: 328,320\n",
      "Non-trainable params: 0\n",
      "_________________________________________________________________\n"
     ]
    }
   ],
   "source": [
    "# Example\n",
    "model = Sequential()\n",
    "model.add(Embedding(10000, 32))\n",
    "model.add(SimpleRNN(32, return_sequences=True))\n",
    "model.add(SimpleRNN(32, return_sequences=True))\n",
    "model.add(SimpleRNN(32, return_sequences=True))\n",
    "model.add(SimpleRNN(32)) # only returns last output\n",
    "model.summary()"
   ]
  },
  {
   "cell_type": "markdown",
   "metadata": {},
   "source": [
    "#### Application to IMDB data\n",
    "- keras.datasets: [Link](https://keras.io/datasets/)\n",
    "```python\n",
    "from keras.datasets import imbd\n",
    "(x_train, y_train), (x_test, y_test ) = imdb.load_data(...)\n",
    "```\n",
    "- Returns:\n",
    " - x_train, x_test: list of sequences, which are lists of indexes (integers)\n",
    " - y_train, y_test: list of integer labels (1 or 0).  \n",
    "- num_words: Top most frequent words to consider. \n",
    "\n",
    "\n",
    "- `sequence.pad_sequences()`: Pads sequences to the same length. \n",
    " - This function transforms a list of `num_sampels` sequences (list of integers) into a 2D Numpy array of shape `(num_samples, num_timesteps)`. \n",
    " - `num_timesteps`is either the `maxlen` argument provided, or the length of the longest sequence otherwise. \n",
    "\n",
    "- Returns: \n",
    " - x: Numpy array with shape `(len(sequences), maxlen)`\n",
    " \n",
    "- `evaluate()`method: Returns the loss value & metrics values for the model in test mode ([link](https://keras.io/models/model/)). "
   ]
  },
  {
   "cell_type": "code",
   "execution_count": 45,
   "metadata": {},
   "outputs": [
    {
     "name": "stdout",
     "output_type": "stream",
     "text": [
      "Shape of input_train (25000,)\n",
      "Shape of input_test (25000,)\n",
      "Shape of input_train (25000, 500)\n",
      "Shape of input_test (25000, 500)\n"
     ]
    }
   ],
   "source": [
    "### Preprocessing the data ###\n",
    "\n",
    "# imports \n",
    "from keras.datasets import imdb\n",
    "from keras.preprocessing import sequence\n",
    "\n",
    "max_features = 10000 # num of words to consider as features \n",
    "maxlen = 500 # cuts off text after this many words\n",
    "batch_size = 32\n",
    "\n",
    "# loading data\n",
    "(input_train, y_train), (input_test, y_test) = imdb.load_data(num_words=max_features)\n",
    "\n",
    "# shape before\n",
    "print(\"Shape of input_train\", input_train.shape)\n",
    "print(\"Shape of input_test\", input_test.shape)\n",
    "\n",
    "input_train = sequence.pad_sequences(input_train, maxlen=maxlen)\n",
    "input_test = sequence.pad_sequences(input_test, maxlen=maxlen)\n",
    "\n",
    "# shape after\n",
    "print(\"Shape of input_train\", input_train.shape)\n",
    "print(\"Shape of input_test\", input_test.shape)"
   ]
  },
  {
   "cell_type": "code",
   "execution_count": 47,
   "metadata": {},
   "outputs": [
    {
     "name": "stdout",
     "output_type": "stream",
     "text": [
      "Train on 20000 samples, validate on 5000 samples\n",
      "Epoch 1/10\n",
      "20000/20000 [==============================] - 32s 2ms/step - loss: 0.6414 - acc: 0.6134 - val_loss: 0.5349 - val_acc: 0.7392\n",
      "Epoch 2/10\n",
      "20000/20000 [==============================] - 34s 2ms/step - loss: 0.4056 - acc: 0.8243 - val_loss: 0.3751 - val_acc: 0.8396\n",
      "Epoch 3/10\n",
      "20000/20000 [==============================] - 35s 2ms/step - loss: 0.3088 - acc: 0.8757 - val_loss: 0.3868 - val_acc: 0.8262\n",
      "Epoch 4/10\n",
      "20000/20000 [==============================] - 36s 2ms/step - loss: 0.2347 - acc: 0.9090 - val_loss: 0.3598 - val_acc: 0.8562\n",
      "Epoch 5/10\n",
      "20000/20000 [==============================] - 37s 2ms/step - loss: 0.1691 - acc: 0.9399 - val_loss: 0.4485 - val_acc: 0.8154\n",
      "Epoch 6/10\n",
      "20000/20000 [==============================] - 42s 2ms/step - loss: 0.1098 - acc: 0.9630 - val_loss: 0.4312 - val_acc: 0.8542\n",
      "Epoch 7/10\n",
      "20000/20000 [==============================] - 45s 2ms/step - loss: 0.0712 - acc: 0.9777 - val_loss: 0.5008 - val_acc: 0.8276\n",
      "Epoch 8/10\n",
      "20000/20000 [==============================] - 39s 2ms/step - loss: 0.0403 - acc: 0.9883 - val_loss: 0.6772 - val_acc: 0.7780\n",
      "Epoch 9/10\n",
      "20000/20000 [==============================] - 39s 2ms/step - loss: 0.0300 - acc: 0.9913 - val_loss: 0.6206 - val_acc: 0.8136\n",
      "Epoch 10/10\n",
      "20000/20000 [==============================] - 39s 2ms/step - loss: 0.0188 - acc: 0.9947 - val_loss: 0.6479 - val_acc: 0.8158\n"
     ]
    }
   ],
   "source": [
    "### Training the model ###\n",
    "\n",
    "# imports \n",
    "from keras.layers import Dense\n",
    "\n",
    "model = Sequential()\n",
    "model.add(Embedding(max_features, 32))\n",
    "model.add(SimpleRNN(32))\n",
    "model.add(Dense(1, activation=\"sigmoid\"))\n",
    "\n",
    "# compile\n",
    "model.compile(optimizer=\"rmsprop\", \n",
    "              loss=\"binary_crossentropy\", \n",
    "              metrics=[\"acc\"])\n",
    "\n",
    "# fit\n",
    "history = model.fit(input_train, y_train,\n",
    "                    epochs=10,\n",
    "                    batch_size=128,\n",
    "                    validation_split=0.2)"
   ]
  },
  {
   "cell_type": "code",
   "execution_count": 53,
   "metadata": {},
   "outputs": [
    {
     "data": {
      "image/png": "[encoded data removed]",
      "text/plain": [
       "<matplotlib.figure.Figure at 0x1b9034a1198>"
      ]
     },
     "metadata": {
      "needs_background": "light"
     },
     "output_type": "display_data"
    },
    {
     "data": {
      "image/png": "[encoded data removed]",
      "text/plain": [
       "<matplotlib.figure.Figure at 0x1b9034d4940>"
      ]
     },
     "metadata": {
      "needs_background": "light"
     },
     "output_type": "display_data"
    }
   ],
   "source": [
    "### Plotting results ###\n",
    "import matplotlib.pyplot as plt\n",
    "\n",
    "acc = history.history[\"acc\"]\n",
    "val_acc = history.history[\"val_acc\"]\n",
    "loss = history.history[\"loss\"]\n",
    "val_loss = history.history[\"val_loss\"]\n",
    "\n",
    "epochs = range(1, len(acc) + 1)\n",
    "\n",
    "plt.plot(epochs, acc, \"bo\", label=\"Training acc\")\n",
    "plt.plot(epochs, val_acc, \"b\", label=\"Validation acc\")\n",
    "\n",
    "plt.title(\"Training and validation accuracy\")\n",
    "plt.legend()\n",
    "\n",
    "plt.figure()\n",
    "\n",
    "plt.plot(epochs, loss, \"bo\", label=\"training loss\")\n",
    "plt.plot(epochs, val_loss, \"b\", label=\"Validation loss\")\n",
    "plt.title(\"Training and validation loss\")\n",
    "plt.legend()\n",
    "\n",
    "plt.show()"
   ]
  },
  {
   "cell_type": "code",
   "execution_count": 52,
   "metadata": {},
   "outputs": [
    {
     "name": "stdout",
     "output_type": "stream",
     "text": [
      "25000/25000 [==============================] - 28s 1ms/step\n",
      "Test accuracy: 81.196\n"
     ]
    }
   ],
   "source": [
    "test_loss, test_acc = model.evaluate(input_test, y_test)\n",
    "print(\"Test accuracy:\", test_acc*100)"
   ]
  },
  {
   "cell_type": "markdown",
   "metadata": {},
   "source": [
    "#### Key Terms\n",
    "\n",
    "- *Recurrent neural network (RNN)* \n",
    "- *Recurrent connection*\n",
    "- Notion of *state* and *loop*\n",
    "- \n"
   ]
  }
 ],
 "metadata": {
  "kernelspec": {
   "display_name": "Python [conda env:Anaconda3]",
   "language": "python",
   "name": "conda-env-Anaconda3-py"
  },
  "language_info": {
   "codemirror_mode": {
    "name": "ipython",
    "version": 3
   },
   "file_extension": ".py",
   "mimetype": "text/x-python",
   "name": "python",
   "nbconvert_exporter": "python",
   "pygments_lexer": "ipython3",
   "version": "3.6.6"
  }
 },
 "nbformat": 4,
 "nbformat_minor": 2
}
