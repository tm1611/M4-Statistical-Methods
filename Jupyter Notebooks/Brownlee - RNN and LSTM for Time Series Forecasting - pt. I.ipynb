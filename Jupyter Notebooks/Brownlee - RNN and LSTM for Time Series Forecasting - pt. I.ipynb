{
 "cells": [
  {
   "cell_type": "markdown",
   "metadata": {},
   "source": [
    "# RNN for Time Series Forecasting\n",
    "\n",
    "Recurrent neural networks (RNN) are a type of neural network that handle sequences, i.e. the relation between observations to each other.\n",
    "\n",
    "Therefore, RNN seem to be able to learn temporal contexts. In addition, there may be the hope that the explicit relationship (such as trend and seasonalities can be learned by the network without explicitly being programmed. \n",
    "\n",
    "## Time Series Forecasting\n",
    "\n",
    "- Adds the complexity of sequential order (temporal dependence between observations)\n",
    "- Requires specialized handling of the data (fitting and evaluating)\n",
    "- Adds additional structure that the model could potentially exploit (i.e. patterns like seasonality and trends)\n",
    "- Traditional time series analysis focuses on linear methods such as ARIMA models and exponential smoothing\n",
    "\n",
    "## Neural Networks for Time Series\n",
    "\n",
    "Neural networks approximate a mapping function from input variables to output variables. \n",
    " \n",
    "- Robust to noise\n",
    "- Nonlinear relationship can be captured\n",
    "\n",
    "## Recurrent Neural Networks for Time Series\n",
    "\n",
    "- Add explicit handling of order between observations when learning a mapping function from inputs to outputs. \n",
    "- Sequence as a new dimension\n",
    "- LSTM, a special kind of RNN, is able to solve many time series tasks unsolvable by feed-forward networks using fixed size time windows. \n",
    "- RNN can learn the temporal dependence from the data. \n",
    "- LSTM has the ability to learn long term correlations in a sequence\n",
    "\n",
    "> Because of this ability to learn long term correlations in a sequence, LSTM networks obviate the need for a pre-specified time window and are capable of accurately modelling complex multivaraite sequences. \n",
    "\n",
    "So there is the hope that LSTM may learn complex relationships such as trend and seasonality. In addition, practice and some research suggests removing such systematic structures to simplify the problem space (e.g. Makridakis et al, 2018). \n",
    "\n",
    "## Predictions with Sequences\n",
    "\n",
    "In general, observations in machine learning are treated equally wrt to their order to each other. This is different for sequences. \n",
    "\n",
    "- Sequences impose an explicit order on the observations.\n",
    "\n",
    "### Sequence prediction\n",
    "\n",
    "Input is an ordered sequence and the task is to predict the next value in the sequence. \n",
    "\n",
    "Examples: \n",
    "\n",
    "- Weather forecasting, Stock market prediction, Product Recommendation\n",
    "\n",
    "### Sequence classification\n",
    "\n",
    "Sequence is given, what is the class label of the sequence?\n",
    "\n",
    "Examples for classes: \n",
    "\n",
    "- Trend/no trend, seasonality/ no seasonality\n",
    "- Anomaly detection, Sentiment analysis (text is a typical example of sequences that are dealt with in deep learning)\n",
    "\n",
    "### Sequence Generation\n",
    "\n",
    "Generating a new output sequence that has the same general characteristics as the input.\n",
    "\n",
    "Examples: \n",
    "\n",
    "- Text generation, Handwriting prediction, Music generation\n",
    "\n",
    "### Sequence-to-Sequence Prediction\n",
    "\n",
    "Predicting an output sequence given an input sequence.\n",
    "\n",
    "Examples: \n",
    "\n",
    "- Multi-step Time Series Forecasting\n",
    "- Text summarization\n",
    "- Program execution\n",
    "\n",
    "After clarifying sequences, how can these problems be approached?"
   ]
  },
  {
   "cell_type": "markdown",
   "metadata": {},
   "source": [
    "# Introduction to Long Short-Term Memory Networks\n",
    "\n",
    "Long Short-Term Memory (LSTM) networks are a type of recurrent neural network that respect the sequential order of a time series or other data that are ordered in this way.\n",
    "\n",
    "- Recurrent networks have an internal *state* that can represent context information\n",
    "- The *state* keeps information about past inputs for an amount of time that is not fixed but depends on its weights and the input data. \n",
    "- This network can be used to transform an input sequence into an output sequence\n",
    "\n",
    "Requirements of a RNN:\n",
    "\n",
    "- System can store information for an arbitray duration\n",
    "- System is resistant to noise\n",
    "- System paramaters can be trained (in reasonable time frame)\n",
    "\n",
    "Context in RNN: \n",
    "\n",
    "- RNN contain cycles that feed the network activations from a previous time step as inputs to the network to influence predictions at the current time step.  \n",
    "- Activations are stored internally\n",
    " - In principle, they can hold long-term temporal contextual information. \n",
    " \n",
    "### LSTMs\n",
    "\n",
    "- RNN fail to learn in the presence of time lags greater than 5-10 time steps (vanishing gradient).\n",
    "- LSTM is not affected by this problem and can learn time lags in excess of 1000 discrete time steps\n",
    "- This can be achieved by enforcing a constant error or \"constant error carrousel\" whitin special units (special cells)\n",
    "\n",
    "Problems the LSTM addresses: \n",
    "\n",
    "1. Vanishing gradient\n",
    "2. Exploding gradients\n",
    " \n",
    "Both are related to the training process of the network.\n",
    "\n",
    "Key to the success of LSTM is a specific internal structure of the units used in the model\n",
    "\n",
    "LSTM analogies: \n",
    "\n",
    "- Motivation is the error flow of existing RNNs\n",
    " - long time lags inaccessible, backpropagated error either blows up or decays exponentially\n",
    "- LSTM layers has a set of recurrently connected blocks (units which deliver information to themselves)\n",
    " - Each LSTM block contains one or more recurrently connected memory cells and three multiplicative units (input, output, forget gate) that provide continous analogues of write, read and reset operations\n",
    " - Net can only interact witht the cells via the gates. \n",
    "- Promise for any sequential processing task in which we suspect a hierarchical decomposition\n",
    "\n",
    "### Bidirectional LSTMs\n",
    "\n",
    "- Process each training sequence forwards and backwards to two separate recurrent nets, both of which are connected to the same output layer\n",
    "\n",
    "### Seq2seq LSTMs or RNN Encoder-Decoders?\n",
    "\n",
    "Idea (Ilya Sutskever, 2014):\n",
    "\n",
    "- Use one LSTM to read the input sequence, one timestep at a time.\n",
    "- Use another LSTM to extract the output sequence from that vector. \n",
    " - This second LSTM is essentially a RNN language model that is conditioned on the input sequence. \n",
    "- Does well on long sentences \n"
   ]
  },
  {
   "cell_type": "markdown",
   "metadata": {},
   "source": [
    "# Introduction to Models for Sequence Prediction with Recurrent Neural Networks\n",
    "\n",
    "- [link](https://machinelearningmastery.com/models-sequence-prediction-recurrent-neural-networks/)\n",
    "\n",
    "Recurrent Neural Networks, like LSTM networks are designed to learn the behavior of sequences. \n",
    "\n",
    "- LSTMs work by learning a function $f(...)$ that maps input sequence values (X) onto output sequence values. \n",
    "\n",
    "> Key idea: In addition to the external vector x, RNNs also have an internal state vector (memory)\n",
    "\n",
    "This state vector has a fixed (but learned) function to produce a new state vector. State vector and new external input are combined to produce the output and update the state vector. \n",
    "\n",
    "## Models for Sequence Prediction\n",
    "\n",
    "There are 4 primary models for sequence prediction \n",
    "\n",
    "Notation: \n",
    "\n",
    "- $X(1)$: Input sequence value at 1\n",
    "- $u(1)$: Hidden state value at time step 1.\n",
    "- $y(1)$: Output sequence value at time step 1.\n",
    "\n",
    "Models: \n",
    "\n",
    "- **One-to-one** model: Produces one output value for each input value. \n",
    " - Internal state for the first time step is zero\n",
    " - In case of a sequence: produce one time step for each observed time step received as input\n",
    "- **One-to-many** model: multiple output values for one input value\n",
    " - image captioning where one image is provided as input and a sequence of words are generated as output. \n",
    "- **Many-to-one** model: Produces one output value after receiving multiple input values. \n",
    " - In the case of time series: Model would use a sequence of recent observations to forecast the next time step. This architecture would represent the classical autoregressive time series model. \n",
    "- **Many-to-many** model: produces multiple outputs after receiving multiple input values. \n",
    " - Number of input time steps do not have to match the number of output time steps. Intuition -> Input and output time steps operating at different rates\n",
    " - In TS forecasting: This model would use a sequence of recent observations to make a multi-step forecast.\n",
    "\n",
    "The cardinality of the sequence prediction models defined above referst to time steps, not features! I.e. in multivariate cases one-to-one model still means that one feature is mapped to one output for every available feature. \n",
    "\n",
    "## Common Misunderstandings\n",
    "\n",
    "Confusion of features vs time steps leads to two main misunderstandings when implementing recurrent neural networks. \n",
    "\n",
    "#### 1. Timesteps as Input Features\n",
    "\n",
    "- Observations at previous timesteps are framed as input features to the model. \n",
    " - Classical fixed-window approach used by MLP. Sequences are fed into the network at one time even though it should be fed in one time step at a time. \n",
    " \n",
    " #### 2. Timesteps as Output Features\n",
    "\n",
    "Predictions at multiple future time steps are framed as output features to the model. \n",
    "\n",
    "- Classical fixed-window approach of making multi-step predictions used by MLP and other ML algorithms. Similar to 1., the sequence predictions should be generaed one time step at a time.\n",
    "- Framing timesteps in this way may well work but it is important to understand what has actually been implemented."
   ]
  },
  {
   "cell_type": "markdown",
   "metadata": {},
   "source": [
    "# On the Suitability of Long Short-Term Memory Networks for Time Series Forecasting\n",
    "\n",
    "- **LSTM**: RNN that can learn the order dependence between items in a sequence. \n",
    " - Promise of being able to learn context to make predictions in time series forecasitng\n",
    " - Some doubt that LSTMs are appropriate for time series forecasting. \n",
    "\n",
    "## LSTM for Time Series Forecasting \n",
    "\n",
    "Paper: [Applying LSTM to Time Series Predictable through Time-Windoe Approaches](https://link.springer.com/chapter/10.1007/3-540-44668-0_93)\n",
    "\n",
    "> \"Time series benchmark problems found in the literature … are often conceptually simpler than many tasks already solved by LSTM. They often do not require RNNs at all, because all relevant information about the next event is conveyed by a few recent events contained within a small time window.\"\n",
    "\n",
    "Two problems: \n",
    "\n",
    "- Mackey-Glass Series\n",
    "- Chaotic Laser Data \n",
    "\n",
    "Autoregression approach to model these problems. \n",
    "\n",
    "> \"The results for the AR-LSTM approach are clearly worse than the results for the time window approaches, for example with MLPs. The AR-LSTM network does not have access to the past as part of its input … [for the LSTM to do well] required remembering one or two events from the past, then using this information before over-writing the same memory cells.\"\n",
    "\n",
    "- A time window based MLP outperformed the LSTM pure-AR approach on certain time series prediction benchmarks solvable by looking at a few recent inputs only.\n",
    "- Thus, LSTM's special strenght, namely, to learn to remember single events for very long, unknown time periods, was not necessary here. \n",
    "- LSTM learnred to tune into the fundamental oscillation of each series but was unable to accurately follow the signal.\n",
    "- LSTM seems to have the ability to learn oscillation behavior (e.g. cycles or seasonality).\n",
    "- Suggestion: Use LSTM only on tasks where traditinoal time window-based appraoches fail. \n",
    "- LSTM's ability to track slow oscillations in the chaotic signal may be applicable to cognitive domains such as rhytmh detection in speech and music.\n",
    "\n",
    "Based on the paper: \n",
    "\n",
    "- LSTMs seem unsuitable for AR-based univariate time series forecasting. \n",
    "- Ought turn first to MLPs with a fixed window and only to LSTMs if MLPs cannot achieve good results\n",
    "\n",
    "Counterarguments (in favor of LSTMs): \n",
    "\n",
    "- **More sophisticated data preparation:** Such as least scaling and stationarity.\n",
    " - Hypothesis: If a cycle or trend is obvious, then it should be removed so that the model (LSTM) can focus on the underlying signal. \n",
    "- **Larger and hierarchical models (stacked LSTMs):** Automatically learn (or \"remember\") a larger temporal dependence. Larger models may be able to learn more. \n",
    "- **More and longer training (no Rocky Balboa):** LSTMs take a long time to learn complex dependencies. Make use of regularization techniques."
   ]
  },
  {
   "cell_type": "markdown",
   "metadata": {},
   "source": [
    "# Time Series Forecasting with the LSTM Network in Python\n",
    "\n",
    "LSTM networks are able to \"remember\" previous relations, thus modeling the data in their relative order such as a time order. Hence, this sequential model seems to be a good fit for sequence modeling such as time series or speech which also relies on a relational order (arrow to the left or right when it comes to the input). \n",
    "\n",
    "This tutorial: \n",
    "\n",
    "- Develop a baseline of performance for a forecasting problem\n",
    "- Design a robust test for one-step time series forecasting\n",
    "- Prepare data, develop, and evaluate an LSTM recurrent neural network for time series forecasting.\n",
    "\n",
    "## The Data: Shampoo Sales\n",
    "\n",
    "- Monthly number of sales of shampoo over a 3-year period (36 observations).\n",
    " - Datasource: Makridakis, Wheelwright, and Hyndman (1998)\n",
    " - Units are a sales count"
   ]
  },
  {
   "cell_type": "code",
   "execution_count": 1,
   "metadata": {},
   "outputs": [],
   "source": [
    "# import libs\n",
    "import pandas as pd\n",
    "import numpy as np\n",
    "import matplotlib as plt\n",
    "import datetime"
   ]
  },
  {
   "cell_type": "code",
   "execution_count": 2,
   "metadata": {},
   "outputs": [
    {
     "name": "stdout",
     "output_type": "stream",
     "text": [
      "Month\n",
      "1901-01-01    266.0\n",
      "1901-02-01    145.9\n",
      "1901-03-01    183.1\n",
      "1901-04-01    119.3\n",
      "1901-05-01    180.3\n",
      "Name: Sales, dtype: float64\n"
     ]
    }
   ],
   "source": [
    "def parser(x):\n",
    "    return datetime.datetime.strptime('190'+x, '%Y-%m')\n",
    "\n",
    "# set \"squeeze=True\" to return a Series instead of a DataFrame\n",
    "series = pd.read_csv('../data/shampoo.csv', \n",
    "                     parse_dates=[0], \n",
    "                     date_parser=parser, \n",
    "                     index_col=0, \n",
    "                     squeeze=True)\n",
    "\n",
    "print(series.head())\n",
    "series.plot(); "
   ]
  },
  {
   "cell_type": "markdown",
   "metadata": {},
   "source": [
    "#### Transformation of the data\n",
    "\n",
    "- Various possibilities to transform data to remove components such as trend, seasonality, etc. \n",
    "- Removing these components is assumed to simplify the underlying problem. \n",
    "- Trend can be removed from the observations, then added back to forecasts later to return the prediction to the original scale and calculate a comparable error score\n",
    "\n",
    "#### First differences\n",
    "\n",
    "Here, we use first differences of the data to make them stationary. This can be achieved using the [`diff()` function in pandas](http://pandas.pydata.org/pandas-docs/stable/generated/pandas.DataFrame.diff.html). Alternatively, own function can be used."
   ]
  },
  {
   "cell_type": "code",
   "execution_count": 22,
   "metadata": {},
   "outputs": [
    {
     "data": {
      "image/png": "[encoded data removed]",
      "text/plain": [
       "<matplotlib.figure.Figure at 0x14d8e31e2b0>"
      ]
     },
     "metadata": {
      "needs_background": "light"
     },
     "output_type": "display_data"
    }
   ],
   "source": [
    "# diff function\n",
    "def diff_data(dataset, interval=1):\n",
    "    diff = list()\n",
    "    for i in range(interval, len(dataset)):\n",
    "        val = dataset[i] - dataset[i - interval]\n",
    "        diff.append(val)\n",
    "    return pd.Series(diff)\n",
    "\n",
    "raw_values = series.values\n",
    "diff_series = diff_data(series, 1)\n",
    "diff_series.plot();"
   ]
  },
  {
   "cell_type": "markdown",
   "metadata": {},
   "source": [
    "#### Inverse difference process\n",
    "\n",
    "In order to make forecasts made on the differenced series we need a function that transforms the differenced forecasts back into the original scale. "
   ]
  },
  {
   "cell_type": "code",
   "execution_count": 4,
   "metadata": {},
   "outputs": [],
   "source": [
    "# inverse diff function\n",
    "# ..."
   ]
  },
  {
   "cell_type": "markdown",
   "metadata": {},
   "source": [
    "#### Transform data to supervised learning problem"
   ]
  },
  {
   "cell_type": "code",
   "execution_count": 5,
   "metadata": {},
   "outputs": [
    {
     "data": {
      "text/html": [
       "<div>\n",
       "<style scoped>\n",
       "    .dataframe tbody tr th:only-of-type {\n",
       "        vertical-align: middle;\n",
       "    }\n",
       "\n",
       "    .dataframe tbody tr th {\n",
       "        vertical-align: top;\n",
       "    }\n",
       "\n",
       "    .dataframe thead th {\n",
       "        text-align: right;\n",
       "    }\n",
       "</style>\n",
       "<table border=\"1\" class=\"dataframe\">\n",
       "  <thead>\n",
       "    <tr style=\"text-align: right;\">\n",
       "      <th></th>\n",
       "      <th>0</th>\n",
       "      <th>0</th>\n",
       "    </tr>\n",
       "  </thead>\n",
       "  <tbody>\n",
       "    <tr>\n",
       "      <th>0</th>\n",
       "      <td>0.0</td>\n",
       "      <td>-120.1</td>\n",
       "    </tr>\n",
       "    <tr>\n",
       "      <th>1</th>\n",
       "      <td>-120.1</td>\n",
       "      <td>37.2</td>\n",
       "    </tr>\n",
       "    <tr>\n",
       "      <th>2</th>\n",
       "      <td>37.2</td>\n",
       "      <td>-63.8</td>\n",
       "    </tr>\n",
       "    <tr>\n",
       "      <th>3</th>\n",
       "      <td>-63.8</td>\n",
       "      <td>61.0</td>\n",
       "    </tr>\n",
       "    <tr>\n",
       "      <th>4</th>\n",
       "      <td>61.0</td>\n",
       "      <td>-11.8</td>\n",
       "    </tr>\n",
       "  </tbody>\n",
       "</table>\n",
       "</div>"
      ],
      "text/plain": [
       "       0      0\n",
       "0    0.0 -120.1\n",
       "1 -120.1   37.2\n",
       "2   37.2  -63.8\n",
       "3  -63.8   61.0\n",
       "4   61.0  -11.8"
      ]
     },
     "execution_count": 5,
     "metadata": {},
     "output_type": "execute_result"
    }
   ],
   "source": [
    "def timeseries_to_supervised(data, lag=1):\n",
    "    df = pd.DataFrame(data)\n",
    "    columns = [df.shift(i) for i in range(1, lag+1)]\n",
    "    columns.append(df)\n",
    "    df = pd.concat(columns, axis=1)\n",
    "    df.fillna(0, inplace=True)\n",
    "    return df\n",
    "\n",
    "supervised_df = timeseries_to_supervised(diff_series)\n",
    "supervised_df.head()"
   ]
  },
  {
   "cell_type": "markdown",
   "metadata": {},
   "source": [
    "#### Train-test split\n",
    "\n",
    "In order to test our model on unseen data we split it into a train and test sequence. The model is trained using the `train` data and then evaluated on the `test` data that the model did not *see* during training."
   ]
  },
  {
   "cell_type": "code",
   "execution_count": 6,
   "metadata": {},
   "outputs": [
    {
     "name": "stdout",
     "output_type": "stream",
     "text": [
      "train:\n",
      " [[   0.  -120.1]\n",
      " [-120.1   37.2]\n",
      " [  37.2  -63.8]\n",
      " [ -63.8   61. ]\n",
      " [  61.   -11.8]] \n",
      "test:\n",
      " [[  77.8   -2.6]\n",
      " [  -2.6  100.7]\n",
      " [ 100.7 -124.5]\n",
      " [-124.5  123.4]\n",
      " [ 123.4  -38. ]]\n"
     ]
    }
   ],
   "source": [
    "# Split data\n",
    "train, test = supervised_df.values[0:-12], supervised_df.values[-12:]\n",
    "print(\"train:\\n\",train[:5], \"\\ntest:\\n\", test[:5])"
   ]
  },
  {
   "cell_type": "markdown",
   "metadata": {},
   "source": [
    "#### Scale the data. \n",
    "\n",
    "LSTMs usually require data to be within a certain scale of the activation function used by the network. Default function for LSTMs is the hyperbolic tangent (tanh), yielding outputs in the range of -1 and 1. Scaling coefficients (min and max) values must be calculate on the training dataset and the same scaling will then be applied to the test data and any forecasts. \n",
    "\n",
    "- `sklearn.preprocessing.MinMaxScaler(feature_range=(0,1), copy=True)` class will be used to do this ([link](http://scikit-learn.org/stable/modules/generated/sklearn.preprocessing.MinMaxScaler.html)).\n",
    " - The method: `inverse_transform` can be used to undo the scaling of X according to feature_range.\n"
   ]
  },
  {
   "cell_type": "code",
   "execution_count": 7,
   "metadata": {},
   "outputs": [
    {
     "name": "stdout",
     "output_type": "stream",
     "text": [
      "[ 1. 18.]\n",
      "\n",
      " [[0.   0.  ]\n",
      " [0.25 0.25]\n",
      " [0.5  0.5 ]\n",
      " [1.   1.  ]]\n",
      "\n",
      " [[1.5  0.25]]\n"
     ]
    }
   ],
   "source": [
    "# Example\n",
    "from sklearn.preprocessing import MinMaxScaler\n",
    "data = [[-1, 2], \n",
    "        [-0.5, 6], \n",
    "        [0, 10], \n",
    "        [1, 18]]\n",
    "\n",
    "# create object MinMaxScaler class\n",
    "scaler = MinMaxScaler()\n",
    "scaler.fit(data)\n",
    "print(scaler.data_max_)\n",
    "\n",
    "# apply scaler\n",
    "print(\"\\n\", scaler.transform(data))\n",
    "print(\"\\n\", scaler.transform([[2, 6]]))"
   ]
  },
  {
   "cell_type": "markdown",
   "metadata": {},
   "source": [
    "#### Back to our example:\n",
    "\n",
    "- Now: Scale to a range of [-1,1]"
   ]
  },
  {
   "cell_type": "code",
   "execution_count": 8,
   "metadata": {},
   "outputs": [
    {
     "name": "stdout",
     "output_type": "stream",
     "text": [
      "Max of data:\n",
      " [213.6 213.6] \n",
      "\n",
      "Train:\n",
      " [[-0.15241435 -0.80037766]\n",
      " [-0.80037766  0.04828702]\n",
      " [ 0.04828702 -0.496628  ]\n",
      " [-0.496628    0.17669274]\n",
      " [ 0.17669274 -0.21607769]] \n",
      "\n",
      "Test:\n",
      " [[ 0.26733207 -0.16644187]\n",
      " [-0.16644187  0.39088211]\n",
      " [ 0.39088211 -0.82411654]\n",
      " [-0.82411654  0.51335312]\n",
      " [ 0.51335312 -0.35743189]]\n"
     ]
    }
   ],
   "source": [
    "# instantiate object\n",
    "scaler = MinMaxScaler(feature_range=(-1, 1))\n",
    "scaler.fit(train)\n",
    "\n",
    "train_scaled = scaler.transform(train)\n",
    "test_scaled = scaler.transform(test)\n",
    "\n",
    "print(\"Max of data:\\n\", scaler.data_max_,\"\\n\\nTrain:\\n\",train_scaled[:5], \"\\n\\nTest:\\n\",test_scaled[:5])"
   ]
  },
  {
   "cell_type": "markdown",
   "metadata": {},
   "source": [
    "### LSTM Model\n",
    "\n",
    "- LSTM is a type of RNN\n",
    "- Can learn and remember over long sequences \n",
    "- Does not rely on a pre-specified window lagges observation as input\n",
    "- Setting `stateful=True`\n",
    "\n",
    "By default, an LSTM layer in Keras maintains state between data within one batch. State in the LSTM layer between batches is cleared by default, therefore we must make the LSTM stateful. This gives control over when the state of the LSTM layer is cleared, by calling the `reset_states()` function. \n",
    "\n",
    "LSTM layer expects input to be in a matrix with the dimensions `[samples, timesteps, features]`\n",
    "\n",
    "- **Samples:** Independent observations from the domain, typically rows of data.\n",
    "- **Timesteps:** Separate time steps of a given variable for a given observation. \n",
    "- **Features:** These are separate measures observed at the time of the observation. "
   ]
  },
  {
   "cell_type": "code",
   "execution_count": 9,
   "metadata": {},
   "outputs": [
    {
     "name": "stderr",
     "output_type": "stream",
     "text": [
      "Using TensorFlow backend.\n"
     ]
    }
   ],
   "source": [
    "from keras.models import Sequential\n",
    "from keras.layers import Dense, LSTM"
   ]
  },
  {
   "cell_type": "code",
   "execution_count": 14,
   "metadata": {},
   "outputs": [],
   "source": [
    "def fit_lstm(train, batch_size, nb_epoch, neurons):\n",
    "    X, y = train[:, 0:-1], train[:,-1]\n",
    "    X = X.reshape(X.shape[0], 1, X.shape[1])\n",
    "\n",
    "    # Define model\n",
    "    model = Sequential()\n",
    "    model.add(LSTM(neurons, batch_input_shape=(batch_size, X.shape[1], X.shape[2]), stateful=True))\n",
    "    model.add(Dense(1))\n",
    "\n",
    "    # compile model\n",
    "    model.compile(loss='mean_squared_error', optimizer='adam')\n",
    "\n",
    "    for i in range(nb_epoch):\n",
    "        model.fit(X, y, epochs=1, batch_size=batch_size, verbose=0, shuffle=False)\n",
    "        model.reset_states()\n",
    "        \n",
    "    return model"
   ]
  },
  {
   "cell_type": "code",
   "execution_count": 33,
   "metadata": {},
   "outputs": [],
   "source": [
    "lstm_model = fit_lstm(train_scaled, \n",
    "                      batch_size=1, \n",
    "                      nb_epoch=3000, \n",
    "                      neurons=5)"
   ]
  },
  {
   "cell_type": "code",
   "execution_count": 34,
   "metadata": {},
   "outputs": [
    {
     "name": "stdout",
     "output_type": "stream",
     "text": [
      "_________________________________________________________________\n",
      "Layer (type)                 Output Shape              Param #   \n",
      "=================================================================\n",
      "lstm_7 (LSTM)                (1, 5)                    140       \n",
      "_________________________________________________________________\n",
      "dense_7 (Dense)              (1, 1)                    6         \n",
      "=================================================================\n",
      "Total params: 146\n",
      "Trainable params: 146\n",
      "Non-trainable params: 0\n",
      "_________________________________________________________________\n",
      "None\n"
     ]
    }
   ],
   "source": [
    "print(lstm_model.summary())"
   ]
  },
  {
   "cell_type": "markdown",
   "metadata": {},
   "source": [
    "## Predict "
   ]
  },
  {
   "cell_type": "code",
   "execution_count": 35,
   "metadata": {},
   "outputs": [
    {
     "data": {
      "text/plain": [
       "array([[-0.7998862 ],\n",
       "       [ 0.0475927 ],\n",
       "       [-0.5232626 ],\n",
       "       [ 0.20087588],\n",
       "       [-0.20868419],\n",
       "       [ 0.18439704],\n",
       "       [-0.1495049 ],\n",
       "       [ 0.0737558 ],\n",
       "       [ 0.22726512],\n",
       "       [ 0.4591301 ],\n",
       "       [-0.96854043],\n",
       "       [ 0.18104589],\n",
       "       [-0.11155933],\n",
       "       [ 0.19077533],\n",
       "       [-0.25307292],\n",
       "       [-0.40478685],\n",
       "       [ 0.2718264 ],\n",
       "       [-0.47632688],\n",
       "       [ 0.15356731],\n",
       "       [-0.3955942 ],\n",
       "       [-0.06103447],\n",
       "       [-0.8963068 ],\n",
       "       [ 0.16121745]], dtype=float32)"
      ]
     },
     "execution_count": 35,
     "metadata": {},
     "output_type": "execute_result"
    }
   ],
   "source": [
    "train_reshaped = train_scaled[:, 0].reshape(len(train_scaled), 1, 1)\n",
    "lstm_model.predict(train_reshaped, batch_size=1)"
   ]
  },
  {
   "cell_type": "code",
   "execution_count": 36,
   "metadata": {},
   "outputs": [
    {
     "name": "stdout",
     "output_type": "stream",
     "text": [
      "Month=1, Predicted=280.111666, Expected=339.700000\n",
      "Month=2, Predicted=338.595780, Expected=440.400000\n",
      "Month=3, Predicted=313.432051, Expected=315.900000\n",
      "Month=4, Predicted=374.297264, Expected=439.300000\n",
      "Month=5, Predicted=294.525069, Expected=401.300000\n",
      "Month=6, Predicted=379.147303, Expected=437.400000\n",
      "Month=7, Predicted=393.124894, Expected=575.500000\n",
      "Month=8, Predicted=335.421408, Expected=407.600000\n",
      "Month=9, Predicted=428.613003, Expected=682.000000\n",
      "Month=10, Predicted=428.492815, Expected=475.300000\n",
      "Month=11, Predicted=496.305816, Expected=581.300000\n",
      "Month=12, Predicted=395.573499, Expected=646.900000\n"
     ]
    }
   ],
   "source": [
    "def forecast_lstm(model, batch_size, X):\n",
    "    X = X.reshape(1, 1, len(X))  # len(X): n_feature\n",
    "    yhat = model.predict(X, batch_size=batch_size)\n",
    "    return yhat[0,0]\n",
    "\n",
    "def invert_scale(scaler, X, value):\n",
    "    new_row = [x for x in X] + [value]\n",
    "    array = np.array(new_row)\n",
    "    array = array.reshape(1, len(array))\n",
    "    inverted = scaler.inverse_transform(array)\n",
    "    return inverted[0, -1]\n",
    "\n",
    "def inverse_difference(history, yhat, interval=1):\n",
    "    return yhat + history[-interval]\n",
    "\n",
    "predictions = list()\n",
    "\n",
    "for i in range(len(test_scaled)):\n",
    "    \n",
    "    # make one-step forecast\n",
    "    X, y = test_scaled[i, 0:-1], test_scaled[i, -1]\n",
    "    yhat = forecast_lstm(lstm_model, 1, X)\n",
    "    \n",
    "    # invert scaling\n",
    "    yhat = invert_scale(scaler, X, yhat)\n",
    "    \n",
    "    # invert differencing\n",
    "    yhat = inverse_difference(raw_values, yhat, len(test_scaled)+1-i)\n",
    "    \n",
    "    # store forecast\n",
    "    predictions.append(yhat)\n",
    "    expected = raw_values[len(train) + i + 1]\n",
    "    print('Month=%d, Predicted=%f, Expected=%f' % (i+1, yhat, expected))"
   ]
  },
  {
   "cell_type": "markdown",
   "metadata": {},
   "source": [
    "## Evaluate"
   ]
  },
  {
   "cell_type": "code",
   "execution_count": 37,
   "metadata": {},
   "outputs": [
    {
     "name": "stdout",
     "output_type": "stream",
     "text": [
      "Test RMSE: 131.718\n"
     ]
    }
   ],
   "source": [
    "from math import sqrt\n",
    "from sklearn.metrics import mean_squared_error\n",
    "\n",
    "rmse=sqrt(mean_squared_error(raw_values[-12:], predictions))\n",
    "print(\"Test RMSE: {:.3f}\".format(rmse))"
   ]
  },
  {
   "cell_type": "markdown",
   "metadata": {},
   "source": [
    "## Plot"
   ]
  },
  {
   "cell_type": "code",
   "execution_count": 39,
   "metadata": {},
   "outputs": [
    {
     "data": {
      "text/plain": [
       "[<matplotlib.lines.Line2D at 0x14d9e1ce400>]"
      ]
     },
     "execution_count": 39,
     "metadata": {},
     "output_type": "execute_result"
    },
    {
     "data": {
      "image/png": "[encoded data removed]",
      "text/plain": [
       "<matplotlib.figure.Figure at 0x14d9e1cee80>"
      ]
     },
     "metadata": {
      "needs_background": "light"
     },
     "output_type": "display_data"
    }
   ],
   "source": [
    "from matplotlib import pyplot\n",
    "\n",
    "pyplot.plot(raw_values[-12:])\n",
    "pyplot.plot(predictions)"
   ]
  }
 ],
 "metadata": {
  "kernelspec": {
   "display_name": "Python [conda env:Anaconda3]",
   "language": "python",
   "name": "conda-env-Anaconda3-py"
  },
  "language_info": {
   "codemirror_mode": {
    "name": "ipython",
    "version": 3
   },
   "file_extension": ".py",
   "mimetype": "text/x-python",
   "name": "python",
   "nbconvert_exporter": "python",
   "pygments_lexer": "ipython3",
   "version": "3.6.6"
  }
 },
 "nbformat": 4,
 "nbformat_minor": 2
}
