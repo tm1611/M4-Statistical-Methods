{
 "cells": [
  {
   "attachments": {},
   "cell_type": "markdown",
   "metadata": {},
   "source": [
    "# Deep Learning with Python (Chollet)\n",
    "\n",
    "## 6.2 Understanding recurrent neural networks\n",
    "\n",
    "Densely connected networks and convnets have no memory and each input is processed independently. \n",
    "\n",
    "- Relation between inputs is not adequately capture here.\n",
    "\n",
    "The input consists of a single data point that is given to the network at once. In the IMDB example an entire movie review was transformed into a single large vector and processed in one go. Such networks are called *feedforward networks*. \n",
    "\n",
    "But if the temporal or sequential order matters, which it does when reading a text or considering time series, this is not an adequate way to express the data inputs. \n",
    "\n",
    "- When reading (text analysis): Previous words and the respective sentence structure are kept in memory to get a representation of the meaning conveyed over the sequence of one sentence.  \n",
    "- In time series: It is the main characteristic of the time series that data points are not happening at the same time but sequentially. \n",
    "\n",
    "> A **recurrent neural network (RNN)** processes sequences by iterating through the sequence elements and maintains a *state* containing information relative to what is has seen so far. \n",
    "\n",
    "RNN is a type of neural network that has an internal loop, the input is processed in an iterative way.\n",
    "\n",
    "<img src=\"./images/fig_6_9.png\" width=\"40%\">\n",
    "\n",
    "- State of RNN resets between processing two different, independent sequences. \n",
    "- What changes: Data point is not longer processed in a single step; the network internally loops over sequence elements. \n",
    "\n",
    "Clarify notions of *loop* and *state* by implementing the forward pass of a toy RNN in Numpy. \n",
    "\n",
    "- RNN takes as input a sequence of vectors, which will be encoded as a 2D tensor of size `(timesteps, input_features)`\n",
    "- It loops over timesteps, and at each step, it coniders its current state at t and the input at t \n",
    " - of shape `(input_features,)` and combines them to obtain the output at t. \n",
    "- Then, the state for the next step is set to be this previous output. \n",
    "- No previous output for first timestep (initial state is zero)\n",
    "\n",
    "```python\n",
    "# pseudocode\n",
    "state_t = 0\n",
    "\n",
    "for input_t in input_sequence:\n",
    "    output_t = f(input_t, state_t)\n",
    "    state_t = output_t\n",
    "```\n",
    "\n",
    "- f is an activation function: transformation of the input and state into an output parametrized by two matrices, W and U, and a bias vector b. \n",
    "\n",
    "```python\n",
    "# pseudocode\n",
    "state_t = 0\n",
    "\n",
    "for input_t in input_sequence: \n",
    "    output_t = activation(dot(W, input_t) + dot(U, state_t) + b)\n",
    "    state_t = output_t\n",
    "```\n",
    "--- "
   ]
  },
  {
   "cell_type": "code",
   "execution_count": 1,
   "metadata": {},
   "outputs": [
    {
     "name": "stdout",
     "output_type": "stream",
     "text": [
      "Shape of inputs:  (100, 32)\n",
      "Shape of state vector:  (64,)\n",
      "Length of outputs:  100\n",
      "(6400,)\n"
     ]
    }
   ],
   "source": [
    "# numpy implementation\n",
    "import numpy as np \n",
    "\n",
    "timesteps = 100\n",
    "input_features = 32 # dimensionality of input feature space\n",
    "output_features = 64 # dimensionality of output feature space\n",
    "\n",
    "# input data: random noise for the example\n",
    "inputs = np.random.random((timesteps, input_features))\n",
    "print(\"Shape of inputs: \", inputs.shape)\n",
    "\n",
    "state_t = np.zeros((output_features,)) # an all-zero vector\n",
    "print(\"Shape of state vector: \",state_t.shape)\n",
    "\n",
    "W = np.random.random((output_features, input_features))\n",
    "U = np.random.random((output_features, output_features))\n",
    "b = np.random.random((output_features,))\n",
    "\n",
    "successive_outputs = []\n",
    "\n",
    "for input_t in inputs: \n",
    "    output_t = np.tanh(np.dot(W, input_t) + np.dot(U, state_t) + b)\n",
    "    successive_outputs.append(output_t)\n",
    "    state_t = output_t # updates the state of the network for next timestep\n",
    "    \n",
    "print(\"Length of outputs: \", len(successive_outputs))\n",
    "\n",
    "final_output_sequence = np.concatenate(successive_outputs, axis=0)\n",
    "print(final_output_sequence.shape)"
   ]
  },
  {
   "cell_type": "markdown",
   "metadata": {},
   "source": [
    "In summary, an RNN is a `for`loop that reuses quantities computed during the previous iteration of the loop, nothing more. \n",
    "\n",
    "RNNs are characterized by their step function (same as activation function?) Here, this is\n",
    "```python\n",
    "output_t = np.tanh(np.dot(W, input_t) + np.dot(U, state_t) + b)\n",
    "```\n",
    "\n",
    "The final output is a 2D tensor of shape `(timesteps, output_features)`, where each timestep is the output of the loop at time t. Each timestep t in the output tensor contains infomration about timesteps 0 to t in the input sequence - about the entire past. Hence, in many cases, we don't need the full sequence of outputs and just the last output (`output_t` at the end of the loop) because it already contains information about the entire sequence. \n",
    "\n",
    "## A recurrent layer in Keras\n",
    "\n",
    "Using `SimpleRNN` layer. Note that this layer processe batches of sequences, not a single sequence as in the example above. \n",
    "\n",
    "- Inputs of shape: `(batch_size, timesteps, input_features)\n",
    "\n",
    "Links: \n",
    "\n",
    "- `keras.layers.SimpleRNN()`: Fully-connected RNN where the output is to be fed back to input [(link)](https://keras.io/layers/recurrent/).\n",
    "- `keras.layers.Embedding()`: Turns positive integers (indexes) into dense vectors of fixed size, e.g. `[[4], [20]]` $\\rightarrow$ `[[0.25, 0.1], [0.6, -0.2]]`\n",
    " - This layer can only be used as the first layer in a model. \n",
    " \n",
    " \n",
    " "
   ]
  },
  {
   "cell_type": "markdown",
   "metadata": {},
   "source": [
    "#### Example that uses `SimpleRNN` and returns only the output at the last timestep.\n",
    "\n",
    "- returns only the last output for each input sequence, a 2D tensor of shape `(batch_size, output_features)`"
   ]
  },
  {
   "cell_type": "code",
   "execution_count": 2,
   "metadata": {},
   "outputs": [
    {
     "name": "stderr",
     "output_type": "stream",
     "text": [
      "Using TensorFlow backend.\n"
     ]
    },
    {
     "name": "stdout",
     "output_type": "stream",
     "text": [
      "_________________________________________________________________\n",
      "Layer (type)                 Output Shape              Param #   \n",
      "=================================================================\n",
      "embedding_1 (Embedding)      (None, None, 32)          320000    \n",
      "_________________________________________________________________\n",
      "simple_rnn_1 (SimpleRNN)     (None, 32)                2080      \n",
      "=================================================================\n",
      "Total params: 322,080\n",
      "Trainable params: 322,080\n",
      "Non-trainable params: 0\n",
      "_________________________________________________________________\n"
     ]
    }
   ],
   "source": [
    "from keras.models import Sequential\n",
    "from keras.layers import SimpleRNN, Embedding\n",
    "model = Sequential()\n",
    "model.add(Embedding(10000, 32))\n",
    "model.add(SimpleRNN(32))\n",
    "model.summary()"
   ]
  },
  {
   "cell_type": "markdown",
   "metadata": {},
   "source": [
    "#### Example that returns the full state sequence\n",
    "\n",
    "- returns full sequences of successive outputs for each timestep (a 3D tensor of shape `(batch_size, timesteps, output_features)`\n",
    "- see output shape of last layer"
   ]
  },
  {
   "cell_type": "code",
   "execution_count": 3,
   "metadata": {},
   "outputs": [
    {
     "name": "stdout",
     "output_type": "stream",
     "text": [
      "_________________________________________________________________\n",
      "Layer (type)                 Output Shape              Param #   \n",
      "=================================================================\n",
      "embedding_2 (Embedding)      (None, None, 32)          320000    \n",
      "_________________________________________________________________\n",
      "simple_rnn_2 (SimpleRNN)     (None, None, 32)          2080      \n",
      "=================================================================\n",
      "Total params: 322,080\n",
      "Trainable params: 322,080\n",
      "Non-trainable params: 0\n",
      "_________________________________________________________________\n"
     ]
    }
   ],
   "source": [
    "model = Sequential()\n",
    "model.add(Embedding(10000, 32))\n",
    "model.add(SimpleRNN(32, return_sequences=True))\n",
    "model.summary()"
   ]
  },
  {
   "cell_type": "markdown",
   "metadata": {},
   "source": [
    "Sometimes it's useful to stack several recurrent layers one after the other in order to incraese the representational power of a network. In such a setup, you have to get all of the intermediate layers to return full sequence of outputs. "
   ]
  },
  {
   "cell_type": "code",
   "execution_count": 4,
   "metadata": {},
   "outputs": [
    {
     "name": "stdout",
     "output_type": "stream",
     "text": [
      "_________________________________________________________________\n",
      "Layer (type)                 Output Shape              Param #   \n",
      "=================================================================\n",
      "embedding_3 (Embedding)      (None, None, 32)          320000    \n",
      "_________________________________________________________________\n",
      "simple_rnn_3 (SimpleRNN)     (None, None, 32)          2080      \n",
      "_________________________________________________________________\n",
      "simple_rnn_4 (SimpleRNN)     (None, None, 32)          2080      \n",
      "_________________________________________________________________\n",
      "simple_rnn_5 (SimpleRNN)     (None, None, 32)          2080      \n",
      "_________________________________________________________________\n",
      "simple_rnn_6 (SimpleRNN)     (None, 32)                2080      \n",
      "=================================================================\n",
      "Total params: 328,320\n",
      "Trainable params: 328,320\n",
      "Non-trainable params: 0\n",
      "_________________________________________________________________\n"
     ]
    }
   ],
   "source": [
    "# Example\n",
    "model = Sequential()\n",
    "model.add(Embedding(10000, 32))\n",
    "model.add(SimpleRNN(32, return_sequences=True))\n",
    "model.add(SimpleRNN(32, return_sequences=True))\n",
    "model.add(SimpleRNN(32, return_sequences=True))\n",
    "model.add(SimpleRNN(32)) # only returns last output\n",
    "model.summary()"
   ]
  },
  {
   "cell_type": "markdown",
   "metadata": {},
   "source": [
    "#### Application to IMDB data\n",
    "- keras.datasets: [Link](https://keras.io/datasets/)\n",
    "```python\n",
    "from keras.datasets import imbd\n",
    "(x_train, y_train), (x_test, y_test ) = imdb.load_data(...)\n",
    "```\n",
    "- Returns:\n",
    " - x_train, x_test: list of sequences, which are lists of indexes (integers)\n",
    " - y_train, y_test: list of integer labels (1 or 0).  \n",
    "- num_words: Top most frequent words to consider. \n",
    "\n",
    "\n",
    "- `sequence.pad_sequences()`: Pads sequences to the same length. \n",
    " - This function transforms a list of `num_sampels` sequences (list of integers) into a 2D Numpy array of shape `(num_samples, num_timesteps)`. \n",
    " - `num_timesteps`is either the `maxlen` argument provided, or the length of the longest sequence otherwise. \n",
    "\n",
    "- Returns: \n",
    " - x: Numpy array with shape `(len(sequences), maxlen)`\n",
    " \n",
    "- `evaluate()`method: Returns the loss value & metrics values for the model in test mode ([link](https://keras.io/models/model/)). "
   ]
  },
  {
   "cell_type": "code",
   "execution_count": 5,
   "metadata": {},
   "outputs": [
    {
     "name": "stdout",
     "output_type": "stream",
     "text": [
      "Shape of input_train (25000,)\n",
      "Shape of input_test (25000,)\n",
      "Shape of input_train (25000, 500)\n",
      "Shape of input_test (25000, 500)\n"
     ]
    }
   ],
   "source": [
    "### Preprocessing the data ###\n",
    "\n",
    "# imports \n",
    "from keras.datasets import imdb\n",
    "from keras.preprocessing import sequence\n",
    "\n",
    "max_features = 10000 # num of words to consider as features \n",
    "maxlen = 500 # cuts off text after this many words\n",
    "batch_size = 32\n",
    "\n",
    "# loading data\n",
    "(input_train, y_train), (input_test, y_test) = imdb.load_data(num_words=max_features)\n",
    "\n",
    "# shape before\n",
    "print(\"Shape of input_train\", input_train.shape)\n",
    "print(\"Shape of input_test\", input_test.shape)\n",
    "\n",
    "input_train = sequence.pad_sequences(input_train, maxlen=maxlen)\n",
    "input_test = sequence.pad_sequences(input_test, maxlen=maxlen)\n",
    "\n",
    "# shape after\n",
    "print(\"Shape of input_train\", input_train.shape)\n",
    "print(\"Shape of input_test\", input_test.shape)"
   ]
  },
  {
   "cell_type": "code",
   "execution_count": 6,
   "metadata": {},
   "outputs": [
    {
     "name": "stdout",
     "output_type": "stream",
     "text": [
      "Train on 20000 samples, validate on 5000 samples\n",
      "Epoch 1/10\n",
      "20000/20000 [==============================] - 61s 3ms/step - loss: 0.6449 - acc: 0.6103 - val_loss: 0.4840 - val_acc: 0.7794\n",
      "Epoch 2/10\n",
      "20000/20000 [==============================] - 65s 3ms/step - loss: 0.4097 - acc: 0.8235 - val_loss: 0.3841 - val_acc: 0.8398\n",
      "Epoch 3/10\n",
      "20000/20000 [==============================] - 68s 3ms/step - loss: 0.3034 - acc: 0.8779 - val_loss: 0.3989 - val_acc: 0.8270\n",
      "Epoch 4/10\n",
      "20000/20000 [==============================] - 74s 4ms/step - loss: 0.2059 - acc: 0.9221 - val_loss: 0.3712 - val_acc: 0.8590\n",
      "Epoch 5/10\n",
      "20000/20000 [==============================] - 44s 2ms/step - loss: 0.1436 - acc: 0.9475 - val_loss: 0.4543 - val_acc: 0.8066\n",
      "Epoch 6/10\n",
      "20000/20000 [==============================] - 33s 2ms/step - loss: 0.0904 - acc: 0.9700 - val_loss: 0.4099 - val_acc: 0.8606\n",
      "Epoch 7/10\n",
      "20000/20000 [==============================] - 34s 2ms/step - loss: 0.0667 - acc: 0.9787 - val_loss: 0.4634 - val_acc: 0.8548\n",
      "Epoch 8/10\n",
      "20000/20000 [==============================] - 33s 2ms/step - loss: 0.0391 - acc: 0.9882 - val_loss: 0.5859 - val_acc: 0.8148\n",
      "Epoch 9/10\n",
      "20000/20000 [==============================] - 35s 2ms/step - loss: 0.0476 - acc: 0.9858 - val_loss: 0.6031 - val_acc: 0.8116\n",
      "Epoch 10/10\n",
      "20000/20000 [==============================] - 37s 2ms/step - loss: 0.0136 - acc: 0.9968 - val_loss: 0.8275 - val_acc: 0.7564\n"
     ]
    }
   ],
   "source": [
    "### Training the model ###\n",
    "\n",
    "# imports \n",
    "from keras.layers import Dense\n",
    "\n",
    "model = Sequential()\n",
    "model.add(Embedding(max_features, 32))\n",
    "model.add(SimpleRNN(32))\n",
    "model.add(Dense(1, activation=\"sigmoid\"))\n",
    "\n",
    "# compile\n",
    "model.compile(optimizer=\"rmsprop\", \n",
    "              loss=\"binary_crossentropy\", \n",
    "              metrics=[\"acc\"])\n",
    "\n",
    "# fit\n",
    "history = model.fit(input_train, y_train,\n",
    "                    epochs=10,\n",
    "                    batch_size=128,\n",
    "                    validation_split=0.2)"
   ]
  },
  {
   "cell_type": "code",
   "execution_count": 7,
   "metadata": {},
   "outputs": [
    {
     "data": {
      "text/plain": [
       "<matplotlib.figure.Figure at 0x22f00659dd8>"
      ]
     },
     "metadata": {},
     "output_type": "display_data"
    },
    {
     "data": {
      "text/plain": [
       "<matplotlib.figure.Figure at 0x22f022d8710>"
      ]
     },
     "metadata": {},
     "output_type": "display_data"
    }
   ],
   "source": [
    "### Plotting results ###\n",
    "import matplotlib.pyplot as plt\n",
    "\n",
    "acc = history.history[\"acc\"]\n",
    "val_acc = history.history[\"val_acc\"]\n",
    "loss = history.history[\"loss\"]\n",
    "val_loss = history.history[\"val_loss\"]\n",
    "\n",
    "epochs = range(1, len(acc) + 1)\n",
    "\n",
    "# matplotlib \n",
    "plt.plot(epochs, acc, \"bo\", label=\"Training acc\")\n",
    "plt.plot(epochs, val_acc, \"b\", label=\"Validation acc\")\n",
    "plt.title(\"Training and validation accuracy\")\n",
    "plt.legend()\n",
    "\n",
    "plt.figure()\n",
    "\n",
    "plt.plot(epochs, loss, \"bo\", label=\"training loss\")\n",
    "plt.plot(epochs, val_loss, \"b\", label=\"Validation loss\")\n",
    "plt.title(\"Training and validation loss\")\n",
    "plt.legend()\n",
    "\n",
    "plt.show()"
   ]
  },
  {
   "cell_type": "markdown",
   "metadata": {},
   "source": [
    "This small recurrent network doesn't perofrm well compared to previous baselines. \n",
    "\n",
    "- Problem: Inputs consider only the first 500 words, rather than full sequences. \n",
    " - `SimpleRNN` isn't good at processing long sequences, such as text.\n",
    " \n",
    "## Understanding LSTM and GRU layers\n",
    "\n",
    "Besides `SimpleRNN`, there are two other recurrent layer available in Keras: \n",
    "\n",
    "- `LSTM`\n",
    "- `GRU`\n",
    "\n",
    "In practice, these are the two that will be used. Due to what is known as *vanishing gradient problem* the simple layer does not actually work well on these kinds of problems. \n",
    "\n",
    "> Vanishing gradient problem is an effect where, as you keep adding layers (for example in feedforward networks) the network eventually becomes untrainable. \n",
    "\n",
    "The `LSTM` and `GRU`layers are designed to solve this problem. \n",
    "\n",
    "#### LSTM\n",
    "The underlying Long Short-Term Memory (LSTM) algorithm was developed by Hochreiter and Schmidhuber in 1997 who were studying the vanishing gradient problem. In comparison to the `SimpleRNN` layer it adds a way to carry information across many timesteps. \n",
    "\n",
    "> The LSTM saves information for later, thus preventing older signals fromg gradually vanishing during processing. \n",
    "\n",
    "Schematically, the SimpleRNN can be expressed as \n",
    "\n",
    "<img src=\"../images/fig_6_13.png\">\n",
    "\n",
    "Now, an additional data flow that carries (hence c) information across timesteps is added. This carried information will be combined with the input connction and the recurrent connection so that the current output depends on the current *state* as well as the current information of the *carrier*. \n",
    "\n",
    "<img src=\"../images/fig_6_14.png\">\n",
    "\n",
    "This is done via a dense transformation (dot product with a weight matrix followed by a bias add and the application of an activation function), and it will affect the state being sent to the next timestep. Conceptually, the carry dataflow is a way to modulate the next output and the next state. \n",
    "\n",
    "Compute the next value of the carry dataflow\n",
    "\n",
    "```python\n",
    "# pseudocode details of LSTM architecture\n",
    "output_t = activation(dot(state_t, Uo) + dot(input_t, Wo) + dot(C_t, Vo) + bo)\n",
    "\n",
    "i_t = activation(dot(state_t, Ui) + dot(input_t, Wi) + bi)\n",
    "f_t = activation(dot(state_t, Uf) + dot(input_t, Wf) + bf)\n",
    "k_t = activation(dot(state_t, Uk) + dot(input_t, Wk) + bk)\n",
    "\n",
    "# carry state obtained by combining i_t, f_t, k_t\n",
    "c_t+1 = i_t*k_t + c_t*f_t\n",
    "```\n",
    "\n",
    "This can be illustrated as\n",
    "\n",
    "<img src=\"../images/fig_6_15.png\">"
   ]
  },
  {
   "cell_type": "markdown",
   "metadata": {},
   "source": [
    "#### Example: Using the LSTM layer in Keras\n",
    "\n",
    "- `keras.layers.LSTM()`: Long Short-Term Memory layer - Hochreiter 1997 [(link)](https://keras.io/layers/recurrent/)\n"
   ]
  },
  {
   "cell_type": "code",
   "execution_count": 8,
   "metadata": {},
   "outputs": [
    {
     "name": "stdout",
     "output_type": "stream",
     "text": [
      "Train on 20000 samples, validate on 5000 samples\n",
      "Epoch 1/10\n",
      "20000/20000 [==============================] - 118s 6ms/step - loss: 0.5081 - acc: 0.7624 - val_loss: 0.3332 - val_acc: 0.8596\n",
      "Epoch 2/10\n",
      "20000/20000 [==============================] - 136s 7ms/step - loss: 0.2887 - acc: 0.8867 - val_loss: 0.3213 - val_acc: 0.8590\n",
      "Epoch 3/10\n",
      "20000/20000 [==============================] - 141s 7ms/step - loss: 0.2309 - acc: 0.9125 - val_loss: 0.3043 - val_acc: 0.8806\n",
      "Epoch 4/10\n",
      "20000/20000 [==============================] - 133s 7ms/step - loss: 0.1951 - acc: 0.9277 - val_loss: 0.4022 - val_acc: 0.8696\n",
      "Epoch 5/10\n",
      "20000/20000 [==============================] - 138s 7ms/step - loss: 0.1738 - acc: 0.9361 - val_loss: 0.3280 - val_acc: 0.8858\n",
      "Epoch 6/10\n",
      "20000/20000 [==============================] - 135s 7ms/step - loss: 0.1585 - acc: 0.9418 - val_loss: 0.4693 - val_acc: 0.8266\n",
      "Epoch 7/10\n",
      "20000/20000 [==============================] - 128s 6ms/step - loss: 0.1393 - acc: 0.9502 - val_loss: 0.4563 - val_acc: 0.8436\n",
      "Epoch 8/10\n",
      "20000/20000 [==============================] - 134s 7ms/step - loss: 0.1284 - acc: 0.9552 - val_loss: 0.3486 - val_acc: 0.8800\n",
      "Epoch 9/10\n",
      "20000/20000 [==============================] - 132s 7ms/step - loss: 0.1145 - acc: 0.9594 - val_loss: 0.3662 - val_acc: 0.8668\n",
      "Epoch 10/10\n",
      "20000/20000 [==============================] - 143s 7ms/step - loss: 0.1059 - acc: 0.9646 - val_loss: 0.4337 - val_acc: 0.8418\n"
     ]
    }
   ],
   "source": [
    "# imports\n",
    "from keras.layers import LSTM\n",
    "\n",
    "model=Sequential()\n",
    "model.add(Embedding(max_features, 32))\n",
    "model.add(LSTM(32))\n",
    "model.add(Dense(1, activation=\"sigmoid\"))\n",
    "\n",
    "model.compile(optimizer=\"rmsprop\",\n",
    "              loss=\"binary_crossentropy\",\n",
    "              metrics=[\"acc\"])\n",
    "\n",
    "history = model.fit(input_train, y_train, \n",
    "                    epochs=10, \n",
    "                    batch_size=128, \n",
    "                    validation_split=0.2)"
   ]
  },
  {
   "cell_type": "code",
   "execution_count": 9,
   "metadata": {},
   "outputs": [
    {
     "data": {
      "image/png": "[encoded data removed]",
      "text/plain": [
       "<matplotlib.figure.Figure at 0x22f6f829780>"
      ]
     },
     "metadata": {
      "needs_background": "light"
     },
     "output_type": "display_data"
    },
    {
     "data": {
      "image/png": "[encoded data removed]",
      "text/plain": [
       "<matplotlib.figure.Figure at 0x22f043d59e8>"
      ]
     },
     "metadata": {
      "needs_background": "light"
     },
     "output_type": "display_data"
    }
   ],
   "source": [
    "### Plotting results ###\n",
    "import matplotlib.pyplot as plt\n",
    "\n",
    "acc = history.history[\"acc\"]\n",
    "val_acc = history.history[\"val_acc\"]\n",
    "loss = history.history[\"loss\"]\n",
    "val_loss = history.history[\"val_loss\"]\n",
    "\n",
    "epochs = range(1, len(acc) + 1)\n",
    "\n",
    "# matplotlib \n",
    "plt.plot(epochs, acc, \"bo\", label=\"Training acc\")\n",
    "plt.plot(epochs, val_acc, \"b\", label=\"Validation acc\")\n",
    "plt.title(\"Training and validation accuracy\")\n",
    "plt.legend()\n",
    "\n",
    "plt.figure()\n",
    "\n",
    "plt.plot(epochs, loss, \"bo\", label=\"training loss\")\n",
    "plt.plot(epochs, val_loss, \"b\", label=\"Validation loss\")\n",
    "plt.title(\"Training and validation loss\")\n",
    "plt.legend()\n",
    "\n",
    "plt.show()"
   ]
  },
  {
   "cell_type": "markdown",
   "metadata": {},
   "source": [
    "#### Results\n",
    "\n",
    "- Better than `SimpleRNN` but definitely not groundbreaking\n",
    " - In particular, considering that this approach is computationally more intensive\n",
    "- Additional hyperparameter tuning may be beneficial (i.e. embeddings dimensionality or the LSTM output dimensionality)\n",
    "- Lack of regularization\n",
    "\n",
    "But a more basic problem is that analyzing the **global, long-term structure** of the reviews (what LSTM is good at) isn't helpful for a sentiment-analysis problem.\n",
    "\n",
    "> LSTM are good at analysiing global, long-term structures."
   ]
  }
 ],
 "metadata": {
  "kernelspec": {
   "display_name": "Python [conda env:Anaconda3]",
   "language": "python",
   "name": "conda-env-Anaconda3-py"
  },
  "language_info": {
   "codemirror_mode": {
    "name": "ipython",
    "version": 3
   },
   "file_extension": ".py",
   "mimetype": "text/x-python",
   "name": "python",
   "nbconvert_exporter": "python",
   "pygments_lexer": "ipython3",
   "version": "3.6.6"
  }
 },
 "nbformat": 4,
 "nbformat_minor": 2
}
