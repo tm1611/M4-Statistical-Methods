{
 "cells": [
  {
   "cell_type": "markdown",
   "metadata": {},
   "source": [
    "# DeepAR - 02 - Practice\n",
    "\n",
    "- Sample Notebooks provided by AWS"
   ]
  },
  {
   "cell_type": "markdown",
   "metadata": {},
   "source": [
    "## DeepAR Sample Notebook - Synthetic data\n",
    "\n",
    "- [Time series forecasting with Deep AR - Synththetic data](https://github.com/awslabs/amazon-sagemaker-examples/blob/master/introduction_to_amazon_algorithms/deepar_synthetic/deepar_synthetic.ipynb)\n",
    "\n",
    "Focus here is to demonstrate how to prepare a dataset of time series for training DeepAR and how to use the trained model for inference. \n",
    "\n",
    "The actual calculations are all done within the SageMaker framework on an EC2 instance. This jupyter notebook contains my notes on important parts of the implementation\n",
    "\n",
    "We will use the sagemaker client library for easy interface with sagemaker and s3fs for uploading the training data to S3. (Use `pip` to install missing libraries)\n",
    "\n",
    "#### S3 \n",
    "\n",
    "- Amazon Simple Storage Service (Amazon S3) is an object storage service \n",
    "- Store and protect any amount of data for a range of use cases, such as websites, mobile applications, backup and restore, archive, enterprise applications, IoT devices, and big data analytics. \n",
    "\n",
    "#### boto3\n",
    "\n",
    "- AWS Software Development Kit (SDK) for Python\n",
    "- Allows Python developers to write software that makes use of services like Amazon S3 and Amazon EC2. \n",
    "- [github](https://github.com/boto/boto3)\n",
    "- [doc site](https://boto3.amazonaws.com/v1/documentation/api/latest/index.html)\n",
    "\n",
    "#### s3fs\n",
    "\n",
    "- S3 Filesystem - builds on boto3 to provide a convenient Python filesystem interface for S3\n",
    "- [docs](https://s3fs.readthedocs.io/en/latest/)\n",
    "\n"
   ]
  },
  {
   "cell_type": "markdown",
   "metadata": {},
   "source": [
    "## DeepAR Sample Notebook - DeepAR demo on electricity dataset\n",
    "\n",
    "- [DeepAR demo on electricity dataset](https://github.com/awslabs/amazon-sagemaker-examples/blob/master/introduction_to_amazon_algorithms/deepar_electricity/DeepAR-Electricity.ipynb)"
   ]
  }
 ],
 "metadata": {
  "kernelspec": {
   "display_name": "Python [conda env:Anaconda3]",
   "language": "python",
   "name": "conda-env-Anaconda3-py"
  },
  "language_info": {
   "codemirror_mode": {
    "name": "ipython",
    "version": 3
   },
   "file_extension": ".py",
   "mimetype": "text/x-python",
   "name": "python",
   "nbconvert_exporter": "python",
   "pygments_lexer": "ipython3",
   "version": "3.6.8"
  }
 },
 "nbformat": 4,
 "nbformat_minor": 2
}
