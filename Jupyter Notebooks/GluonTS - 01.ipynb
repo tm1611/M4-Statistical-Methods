{
 "cells": [
  {
   "cell_type": "markdown",
   "metadata": {},
   "source": [
    "# Gluon Time Series (GluonTS)\n",
    "\n",
    "#### What is GluonTS?\n",
    "\n",
    "- A Library for DL-based time series modeling "
   ]
  },
  {
   "cell_type": "code",
   "execution_count": 5,
   "metadata": {},
   "outputs": [],
   "source": [
    "# Imports\n",
    "from gluonts.dataset.repository.datasets import get_dataset\n",
    "from gluonts.model.deepar import DeepAREstimator\n",
    "from gluonts.trainer import Trainer\n",
    "from gluonts.evaluation import Evaluator\n",
    "from gluonts.evaluation.backtest import backtest_metrics\n"
   ]
  },
  {
   "cell_type": "code",
   "execution_count": 6,
   "metadata": {},
   "outputs": [
    {
     "name": "stderr",
     "output_type": "stream",
     "text": [
      "INFO:root:downloading and processing electricity\n"
     ]
    },
    {
     "name": "stdout",
     "output_type": "stream",
     "text": [
      "saving time-series into C:\\Users\\TM\\.mxnet\\gluon-ts\\datasets\\electricity\\train\\data.json\n"
     ]
    },
    {
     "name": "stderr",
     "output_type": "stream",
     "text": [
      "C:\\Users\\TM\\Anaconda3\\lib\\site-packages\\gluonts\\dataset\\repository\\_lstnet.py:178: FutureWarning: Addition/subtraction of integers and integer-arrays to Timestamp is deprecated, will be removed in a future version.  Instead of adding/subtracting `n`, use `n * self.freq`\n",
      "  for i in range(ds_info.rolling_evaluations)\n",
      "C:\\Users\\TM\\Anaconda3\\lib\\site-packages\\gluonts\\dataset\\repository\\_lstnet.py:186: FutureWarning: Addition/subtraction of integers and integer-arrays to Timestamp is deprecated, will be removed in a future version.  Instead of adding/subtracting `n`, use `n * self.freq`\n",
      "  prediction_start_date + ds_info.prediction_length\n"
     ]
    },
    {
     "name": "stdout",
     "output_type": "stream",
     "text": [
      "saving time-series into C:\\Users\\TM\\.mxnet\\gluon-ts\\datasets\\electricity\\test\\data.json\n"
     ]
    }
   ],
   "source": [
    "# download data\n",
    "meta, train_ds, test_ds = get_dataset(\"electricity\")"
   ]
  },
  {
   "cell_type": "code",
   "execution_count": 23,
   "metadata": {},
   "outputs": [
    {
     "name": "stderr",
     "output_type": "stream",
     "text": [
      "INFO:root:Using CPU\n",
      "INFO:root:Start model training\n",
      "INFO:root:Number of parameters in DeepARTrainingNetwork: 13463\n",
      "INFO:root:Epoch[0] Learning rate is 0.001\n",
      "100%|██████████| 50/50 [00:31<00:00,  1.58it/s, avg_epoch_loss=6.63]\n",
      "INFO:root:Epoch[0] Elapsed time 31.601 seconds\n",
      "INFO:root:Epoch[0] Evaluation metric 'epoch_loss'=6.625186\n",
      "INFO:root:Epoch[1] Learning rate is 0.001\n",
      "100%|██████████| 50/50 [00:27<00:00,  1.81it/s, avg_epoch_loss=5.78]\n",
      "INFO:root:Epoch[1] Elapsed time 27.685 seconds\n",
      "INFO:root:Epoch[1] Evaluation metric 'epoch_loss'=5.783942\n",
      "INFO:root:Epoch[2] Learning rate is 0.001\n",
      "100%|██████████| 50/50 [00:28<00:00,  1.74it/s, avg_epoch_loss=5.71]\n",
      "INFO:root:Epoch[2] Elapsed time 28.795 seconds\n",
      "INFO:root:Epoch[2] Evaluation metric 'epoch_loss'=5.709736\n",
      "INFO:root:Epoch[3] Learning rate is 0.001\n",
      "100%|██████████| 50/50 [00:30<00:00,  1.66it/s, avg_epoch_loss=5.45]\n",
      "INFO:root:Epoch[3] Elapsed time 30.178 seconds\n",
      "INFO:root:Epoch[3] Evaluation metric 'epoch_loss'=5.454261\n",
      "INFO:root:Epoch[4] Learning rate is 0.001\n",
      "100%|██████████| 50/50 [00:26<00:00,  1.87it/s, avg_epoch_loss=5.48]\n",
      "INFO:root:Epoch[4] Elapsed time 26.707 seconds\n",
      "INFO:root:Epoch[4] Evaluation metric 'epoch_loss'=5.484892\n",
      "INFO:root:Epoch[5] Learning rate is 0.001\n",
      "100%|██████████| 50/50 [00:27<00:00,  1.80it/s, avg_epoch_loss=5.35]\n",
      "INFO:root:Epoch[5] Elapsed time 27.838 seconds\n",
      "INFO:root:Epoch[5] Evaluation metric 'epoch_loss'=5.346665\n",
      "INFO:root:Epoch[6] Learning rate is 0.001\n",
      "100%|██████████| 50/50 [00:26<00:00,  1.89it/s, avg_epoch_loss=5.32]\n",
      "INFO:root:Epoch[6] Elapsed time 26.475 seconds\n",
      "INFO:root:Epoch[6] Evaluation metric 'epoch_loss'=5.322373\n",
      "INFO:root:Epoch[7] Learning rate is 0.001\n",
      "100%|██████████| 50/50 [00:26<00:00,  1.87it/s, avg_epoch_loss=5.26]\n",
      "INFO:root:Epoch[7] Elapsed time 26.745 seconds\n",
      "INFO:root:Epoch[7] Evaluation metric 'epoch_loss'=5.255655\n",
      "INFO:root:Epoch[8] Learning rate is 0.001\n",
      "100%|██████████| 50/50 [00:26<00:00,  1.87it/s, avg_epoch_loss=5.3] \n",
      "INFO:root:Epoch[8] Elapsed time 26.682 seconds\n",
      "INFO:root:Epoch[8] Evaluation metric 'epoch_loss'=5.299442\n",
      "INFO:root:Epoch[9] Learning rate is 0.001\n",
      "100%|██████████| 50/50 [00:26<00:00,  1.86it/s, avg_epoch_loss=5.21]\n",
      "INFO:root:Epoch[9] Elapsed time 26.925 seconds\n",
      "INFO:root:Epoch[9] Evaluation metric 'epoch_loss'=5.213413\n",
      "INFO:root:Epoch[10] Learning rate is 0.001\n",
      "100%|██████████| 50/50 [00:26<00:00,  1.85it/s, avg_epoch_loss=5.27]\n",
      "INFO:root:Epoch[10] Elapsed time 26.978 seconds\n",
      "INFO:root:Epoch[10] Evaluation metric 'epoch_loss'=5.266639\n",
      "INFO:root:Epoch[11] Learning rate is 0.001\n",
      "100%|██████████| 50/50 [00:28<00:00,  1.78it/s, avg_epoch_loss=5.21]\n",
      "INFO:root:Epoch[11] Elapsed time 28.159 seconds\n",
      "INFO:root:Epoch[11] Evaluation metric 'epoch_loss'=5.205615\n",
      "INFO:root:Epoch[12] Learning rate is 0.001\n",
      "100%|██████████| 50/50 [00:30<00:00,  1.66it/s, avg_epoch_loss=5.24]\n",
      "INFO:root:Epoch[12] Elapsed time 30.116 seconds\n",
      "INFO:root:Epoch[12] Evaluation metric 'epoch_loss'=5.236450\n",
      "INFO:root:Epoch[13] Learning rate is 0.001\n",
      "100%|██████████| 50/50 [00:27<00:00,  1.80it/s, avg_epoch_loss=5.25]\n",
      "INFO:root:Epoch[13] Elapsed time 27.834 seconds\n",
      "INFO:root:Epoch[13] Evaluation metric 'epoch_loss'=5.245763\n",
      "INFO:root:Epoch[14] Learning rate is 0.001\n",
      "100%|██████████| 50/50 [00:26<00:00,  1.89it/s, avg_epoch_loss=5.22]\n",
      "INFO:root:Epoch[14] Elapsed time 26.399 seconds\n",
      "INFO:root:Epoch[14] Evaluation metric 'epoch_loss'=5.222721\n",
      "INFO:root:Epoch[15] Learning rate is 0.001\n",
      "100%|██████████| 50/50 [00:26<00:00,  1.87it/s, avg_epoch_loss=5.12]\n",
      "INFO:root:Epoch[15] Elapsed time 26.691 seconds\n",
      "INFO:root:Epoch[15] Evaluation metric 'epoch_loss'=5.122705\n",
      "INFO:root:Epoch[16] Learning rate is 0.001\n",
      "100%|██████████| 50/50 [00:26<00:00,  1.90it/s, avg_epoch_loss=5.23]\n",
      "INFO:root:Epoch[16] Elapsed time 26.383 seconds\n",
      "INFO:root:Epoch[16] Evaluation metric 'epoch_loss'=5.229102\n",
      "INFO:root:Epoch[17] Learning rate is 0.001\n",
      "100%|██████████| 50/50 [00:25<00:00,  1.95it/s, avg_epoch_loss=5.17]\n",
      "INFO:root:Epoch[17] Elapsed time 25.683 seconds\n",
      "INFO:root:Epoch[17] Evaluation metric 'epoch_loss'=5.167082\n",
      "INFO:root:Epoch[18] Learning rate is 0.001\n",
      "100%|██████████| 50/50 [00:26<00:00,  1.91it/s, avg_epoch_loss=5.16]\n",
      "INFO:root:Epoch[18] Elapsed time 26.250 seconds\n",
      "INFO:root:Epoch[18] Evaluation metric 'epoch_loss'=5.159985\n",
      "INFO:root:Epoch[19] Learning rate is 0.001\n",
      "100%|██████████| 50/50 [00:28<00:00,  1.78it/s, avg_epoch_loss=5.14]\n",
      "INFO:root:Epoch[19] Elapsed time 28.105 seconds\n",
      "INFO:root:Epoch[19] Evaluation metric 'epoch_loss'=5.141212\n",
      "INFO:root:Loading parameters from best epoch (15)\n",
      "INFO:root:Final loss: 5.122705192565918 (occurred at epoch 15)\n",
      "INFO:root:End model training\n"
     ]
    }
   ],
   "source": [
    "# defining the estimator\n",
    "estimator = DeepAREstimator(\n",
    "freq=meta.freq,\n",
    "prediction_length=100,\n",
    "trainer=Trainer(epochs=20,\n",
    "batch_size=32)\n",
    ")\n",
    "\n",
    "# training the model\n",
    "predictor=estimator.train(train_ds)"
   ]
  },
  {
   "cell_type": "code",
   "execution_count": 24,
   "metadata": {},
   "outputs": [
    {
     "name": "stderr",
     "output_type": "stream",
     "text": [
      "100%|██████████| 321/321 [00:01<00:00, 287.55it/s]\n",
      "INFO:gluonts.evaluation.backtest:gluonts[train_dataset_stats]: DatasetStatistics(cats=[], integer_dataset=True, max_target=764000.0, mean_abs_target=2510.680722219163, mean_target=2510.680722219163, mean_target_length=21044.0, min_target=0.0, num_dynamic_feat=0, num_missing_values=0, num_time_observations=6755124, num_time_series=321, scale_histogram=gluonts.dataset.stat.ScaleHistogram(base=2.0, bin_counts={4: 3, 6: 17, 8: 80, 7: 40, 9: 67, 10: 40, 5: 8, 12: 17, 11: 33, 13: 10, 16: 1, 14: 2, 15: 1, 3: 1, 17: 1}, empty_target_count=0))\n",
      "100%|██████████| 2247/2247 [00:07<00:00, 294.48it/s]\n",
      "INFO:gluonts.evaluation.backtest:gluonts[test_dataset_stats]: DatasetStatistics(cats=[], integer_dataset=True, max_target=764000.0, mean_abs_target=2509.915425002705, mean_target=2509.915425002705, mean_target_length=21140.0, min_target=0.0, num_dynamic_feat=0, num_missing_values=0, num_time_observations=47501580, num_time_series=2247, scale_histogram=gluonts.dataset.stat.ScaleHistogram(base=2.0, bin_counts={4: 21, 6: 119, 8: 560, 7: 280, 9: 469, 10: 280, 5: 56, 12: 119, 11: 231, 13: 70, 16: 7, 14: 14, 15: 7, 3: 7, 17: 7}, empty_target_count=0))\n",
      "Running evaluation: 100%|██████████| 2247/2247 [13:30<00:00,  2.77it/s] \n",
      "INFO:gluonts.evaluation.backtest:gluonts[metric-MSE]: 2554635.90073555\n",
      "INFO:gluonts.evaluation.backtest:gluonts[metric-abs_error]: 42284958.62837219\n",
      "INFO:gluonts.evaluation.backtest:gluonts[metric-abs_target_sum]: 527931960.0\n",
      "INFO:gluonts.evaluation.backtest:gluonts[metric-abs_target_mean]: 2349.4969292389815\n",
      "INFO:gluonts.evaluation.backtest:gluonts[metric-seasonal_error]: 189.61848951639666\n",
      "INFO:gluonts.evaluation.backtest:gluonts[metric-MASE]: 0.8736484154163442\n",
      "INFO:gluonts.evaluation.backtest:gluonts[metric-sMAPE]: 0.12085347520832891\n",
      "INFO:gluonts.evaluation.backtest:gluonts[metric-MSIS]: 9.611701992054009\n",
      "INFO:gluonts.evaluation.backtest:gluonts[metric-QuantileLoss[0.1]]: 19720864.83343442\n",
      "INFO:gluonts.evaluation.backtest:gluonts[metric-Coverage[0.1]]: 0.1369692923898521\n",
      "INFO:gluonts.evaluation.backtest:gluonts[metric-QuantileLoss[0.5]]: 42284958.207887724\n",
      "INFO:gluonts.evaluation.backtest:gluonts[metric-Coverage[0.5]]: 0.594241210502893\n",
      "INFO:gluonts.evaluation.backtest:gluonts[metric-QuantileLoss[0.9]]: 24913631.575413525\n",
      "INFO:gluonts.evaluation.backtest:gluonts[metric-Coverage[0.9]]: 0.9145705384957833\n",
      "INFO:gluonts.evaluation.backtest:gluonts[metric-RMSE]: 1598.3228399592963\n",
      "INFO:gluonts.evaluation.backtest:gluonts[metric-NRMSE]: 0.6802830087022094\n",
      "INFO:gluonts.evaluation.backtest:gluonts[metric-ND]: 0.0800954703109321\n",
      "INFO:gluonts.evaluation.backtest:gluonts[metric-wQuantileLoss[0.1]]: 0.037354936483546895\n",
      "INFO:gluonts.evaluation.backtest:gluonts[metric-wQuantileLoss[0.5]]: 0.08009546951445737\n",
      "INFO:gluonts.evaluation.backtest:gluonts[metric-wQuantileLoss[0.9]]: 0.047190989489277226\n",
      "INFO:gluonts.evaluation.backtest:gluonts[metric-mean_wQuantileLoss]: 0.054880465162427165\n",
      "INFO:gluonts.evaluation.backtest:gluonts[metric-MAE_Coverage]: 0.04859368046284279\n"
     ]
    }
   ],
   "source": [
    "# Evaluation\n",
    "evaluator=Evaluator(quantiles=(0.1, 0.5, 0.9))\n",
    "\n",
    "agg_metrics, item_metrics = backtest_metrics(\n",
    "train_dataset=train_ds,\n",
    "test_dataset=test_ds,\n",
    "forecaster=predictor,\n",
    "evaluator=evaluator\n",
    ")"
   ]
  },
  {
   "cell_type": "code",
   "execution_count": 36,
   "metadata": {},
   "outputs": [
    {
     "data": {
      "text/plain": [
       "(2247, 15)"
      ]
     },
     "execution_count": 36,
     "metadata": {},
     "output_type": "execute_result"
    }
   ],
   "source": [
    "item_metrics.shape"
   ]
  },
  {
   "cell_type": "code",
   "execution_count": 54,
   "metadata": {},
   "outputs": [
    {
     "data": {
      "text/plain": [
       "{'start': Timestamp('2012-01-01 00:00:00', freq='H'),\n",
       " 'target': array([14., 18., 21., ...,  8.,  8.,  6.], dtype=float32),\n",
       " 'feat_static_cat': array([0]),\n",
       " 'source': SourceContext(source=Span(path=WindowsPath('C:/Users/TM/.mxnet/gluon-ts/datasets/electricity/test/data.json'), line=1), row=1)}"
      ]
     },
     "execution_count": 54,
     "metadata": {},
     "output_type": "execute_result"
    }
   ],
   "source": [
    "# extract values of first time series in dataset\n",
    "my_train = list(train_ds)\n",
    "series_start = my_train[0][\"start\"]\n",
    "series_values = my_train[0][\"target\"]\n",
    "series_values\n",
    "list(test_ds)[0]"
   ]
  }
 ],
 "metadata": {
  "kernelspec": {
   "display_name": "Python [conda env:Anaconda3]",
   "language": "python",
   "name": "conda-env-Anaconda3-py"
  },
  "language_info": {
   "codemirror_mode": {
    "name": "ipython",
    "version": 3
   },
   "file_extension": ".py",
   "mimetype": "text/x-python",
   "name": "python",
   "nbconvert_exporter": "python",
   "pygments_lexer": "ipython3",
   "version": "3.6.8"
  }
 },
 "nbformat": 4,
 "nbformat_minor": 2
}
