{
 "cells": [
  {
   "cell_type": "markdown",
   "metadata": {},
   "source": [
    "# Gluon Time Series (GluonTS)\n",
    "\n",
    "#### What is GluonTS?\n",
    "\n",
    "- A Library for DL-based time series modeling "
   ]
  },
  {
   "cell_type": "code",
   "execution_count": 1,
   "metadata": {},
   "outputs": [
    {
     "name": "stderr",
     "output_type": "stream",
     "text": [
      "INFO:root:Using CPU\n"
     ]
    }
   ],
   "source": [
    "# Imports\n",
    "from gluonts.dataset.repository.datasets import get_dataset\n",
    "from gluonts.model.deepar import DeepAREstimator\n",
    "from gluonts.trainer import Trainer\n",
    "from gluonts.evaluation import Evaluator\n",
    "from gluonts.evaluation.backtest import backtest_metrics"
   ]
  },
  {
   "cell_type": "code",
   "execution_count": 2,
   "metadata": {},
   "outputs": [
    {
     "name": "stderr",
     "output_type": "stream",
     "text": [
      "INFO:root:using dataset already processed in path C:\\Users\\TM\\.mxnet\\gluon-ts\\datasets\\electricity.\n"
     ]
    }
   ],
   "source": [
    "# download data\n",
    "meta, train_ds, test_ds = get_dataset(\"electricity\")"
   ]
  },
  {
   "cell_type": "code",
   "execution_count": 3,
   "metadata": {},
   "outputs": [
    {
     "name": "stderr",
     "output_type": "stream",
     "text": [
      "INFO:root:Using CPU\n",
      "INFO:root:Start model training\n",
      "INFO:root:Number of parameters in DeepARTrainingNetwork: 13463\n",
      "INFO:root:Epoch[0] Learning rate is 0.001\n",
      "100%|██████████| 50/50 [01:12<00:00,  1.45s/it, avg_epoch_loss=6.61]\n",
      "INFO:root:Epoch[0] Elapsed time 72.578 seconds\n",
      "INFO:root:Epoch[0] Evaluation metric 'epoch_loss'=6.610371\n",
      "INFO:root:Epoch[1] Learning rate is 0.001\n",
      "100%|██████████| 50/50 [00:58<00:00,  1.17s/it, avg_epoch_loss=5.83]\n",
      "INFO:root:Epoch[1] Elapsed time 58.627 seconds\n",
      "INFO:root:Epoch[1] Evaluation metric 'epoch_loss'=5.831047\n",
      "INFO:root:Epoch[2] Learning rate is 0.001\n",
      "100%|██████████| 50/50 [00:55<00:00,  1.12s/it, avg_epoch_loss=5.6] \n",
      "INFO:root:Epoch[2] Elapsed time 55.899 seconds\n",
      "INFO:root:Epoch[2] Evaluation metric 'epoch_loss'=5.604568\n",
      "INFO:root:Epoch[3] Learning rate is 0.001\n",
      "100%|██████████| 50/50 [01:36<00:00,  1.93s/it, avg_epoch_loss=5.48]\n",
      "INFO:root:Epoch[3] Elapsed time 96.518 seconds\n",
      "INFO:root:Epoch[3] Evaluation metric 'epoch_loss'=5.480255\n",
      "INFO:root:Epoch[4] Learning rate is 0.001\n",
      "100%|██████████| 50/50 [01:11<00:00,  1.43s/it, avg_epoch_loss=5.45]\n",
      "INFO:root:Epoch[4] Elapsed time 71.729 seconds\n",
      "INFO:root:Epoch[4] Evaluation metric 'epoch_loss'=5.450863\n",
      "INFO:root:Epoch[5] Learning rate is 0.001\n",
      "100%|██████████| 50/50 [01:00<00:00,  1.20s/it, avg_epoch_loss=5.37]\n",
      "INFO:root:Epoch[5] Elapsed time 60.210 seconds\n",
      "INFO:root:Epoch[5] Evaluation metric 'epoch_loss'=5.370375\n",
      "INFO:root:Epoch[6] Learning rate is 0.001\n",
      "100%|██████████| 50/50 [00:57<00:00,  1.15s/it, avg_epoch_loss=5.37]\n",
      "INFO:root:Epoch[6] Elapsed time 57.702 seconds\n",
      "INFO:root:Epoch[6] Evaluation metric 'epoch_loss'=5.366704\n",
      "INFO:root:Epoch[7] Learning rate is 0.001\n",
      "100%|██████████| 50/50 [00:57<00:00,  1.15s/it, avg_epoch_loss=5.28]\n",
      "INFO:root:Epoch[7] Elapsed time 57.352 seconds\n",
      "INFO:root:Epoch[7] Evaluation metric 'epoch_loss'=5.279731\n",
      "INFO:root:Epoch[8] Learning rate is 0.001\n",
      "100%|██████████| 50/50 [01:03<00:00,  1.28s/it, avg_epoch_loss=5.32]\n",
      "INFO:root:Epoch[8] Elapsed time 63.809 seconds\n",
      "INFO:root:Epoch[8] Evaluation metric 'epoch_loss'=5.321125\n",
      "INFO:root:Epoch[9] Learning rate is 0.001\n",
      "100%|██████████| 50/50 [00:59<00:00,  1.19s/it, avg_epoch_loss=5.23]\n",
      "INFO:root:Epoch[9] Elapsed time 59.621 seconds\n",
      "INFO:root:Epoch[9] Evaluation metric 'epoch_loss'=5.231852\n",
      "INFO:root:Loading parameters from best epoch (9)\n",
      "INFO:root:Final loss: 5.231851530075073 (occurred at epoch 9)\n",
      "INFO:root:End model training\n"
     ]
    }
   ],
   "source": [
    "# Defining the estimator\n",
    "estimator = DeepAREstimator(\n",
    "freq=meta.freq,\n",
    "prediction_length=100,\n",
    "trainer=Trainer(epochs=10,\n",
    "batch_size=64)\n",
    ")\n",
    "\n",
    "# training the model\n",
    "predictor=estimator.train(train_ds)"
   ]
  },
  {
   "cell_type": "code",
   "execution_count": 4,
   "metadata": {},
   "outputs": [
    {
     "name": "stderr",
     "output_type": "stream",
     "text": [
      "100%|██████████| 321/321 [00:01<00:00, 294.16it/s]\n",
      "INFO:gluonts.evaluation.backtest:gluonts[train_dataset_stats]: DatasetStatistics(cats=[], integer_dataset=True, max_target=764000.0, mean_abs_target=2510.680722219163, mean_target=2510.680722219163, mean_target_length=21044.0, min_target=0.0, num_dynamic_feat=0, num_missing_values=0, num_time_observations=6755124, num_time_series=321, scale_histogram=gluonts.dataset.stat.ScaleHistogram(base=2.0, bin_counts={4: 3, 6: 17, 8: 80, 7: 40, 9: 67, 10: 40, 5: 8, 12: 17, 11: 33, 13: 10, 16: 1, 14: 2, 15: 1, 3: 1, 17: 1}, empty_target_count=0))\n",
      "100%|██████████| 2247/2247 [00:11<00:00, 200.43it/s]\n",
      "INFO:gluonts.evaluation.backtest:gluonts[test_dataset_stats]: DatasetStatistics(cats=[], integer_dataset=True, max_target=764000.0, mean_abs_target=2509.915425002705, mean_target=2509.915425002705, mean_target_length=21140.0, min_target=0.0, num_dynamic_feat=0, num_missing_values=0, num_time_observations=47501580, num_time_series=2247, scale_histogram=gluonts.dataset.stat.ScaleHistogram(base=2.0, bin_counts={4: 21, 6: 119, 8: 560, 7: 280, 9: 469, 10: 280, 5: 56, 12: 119, 11: 231, 13: 70, 16: 7, 14: 14, 15: 7, 3: 7, 17: 7}, empty_target_count=0))\n",
      "Running evaluation: 100%|██████████| 2247/2247 [14:25<00:00,  2.60it/s] \n",
      "INFO:gluonts.evaluation.backtest:gluonts[metric-MSE]: 3223757.449933621\n",
      "INFO:gluonts.evaluation.backtest:gluonts[metric-abs_error]: 43375386.31700897\n",
      "INFO:gluonts.evaluation.backtest:gluonts[metric-abs_target_sum]: 527931960.0\n",
      "INFO:gluonts.evaluation.backtest:gluonts[metric-abs_target_mean]: 2349.4969292389815\n",
      "INFO:gluonts.evaluation.backtest:gluonts[metric-seasonal_error]: 189.61848951639666\n",
      "INFO:gluonts.evaluation.backtest:gluonts[metric-MASE]: 0.9678483959106805\n",
      "INFO:gluonts.evaluation.backtest:gluonts[metric-sMAPE]: 0.12723037619257357\n",
      "INFO:gluonts.evaluation.backtest:gluonts[metric-MSIS]: 12.031995403815534\n",
      "INFO:gluonts.evaluation.backtest:gluonts[metric-QuantileLoss[0.1]]: 18644782.776426546\n",
      "INFO:gluonts.evaluation.backtest:gluonts[metric-Coverage[0.1]]: 0.06034267912772619\n",
      "INFO:gluonts.evaluation.backtest:gluonts[metric-QuantileLoss[0.5]]: 43375386.21885053\n",
      "INFO:gluonts.evaluation.backtest:gluonts[metric-Coverage[0.5]]: 0.3024032042723639\n",
      "INFO:gluonts.evaluation.backtest:gluonts[metric-QuantileLoss[0.9]]: 30622622.978522815\n",
      "INFO:gluonts.evaluation.backtest:gluonts[metric-Coverage[0.9]]: 0.7645571873609239\n",
      "INFO:gluonts.evaluation.backtest:gluonts[metric-RMSE]: 1795.4825117314904\n",
      "INFO:gluonts.evaluation.backtest:gluonts[metric-NRMSE]: 0.7641987054279997\n",
      "INFO:gluonts.evaluation.backtest:gluonts[metric-ND]: 0.08216094043067401\n",
      "INFO:gluonts.evaluation.backtest:gluonts[metric-wQuantileLoss[0.1]]: 0.03531663962232282\n",
      "INFO:gluonts.evaluation.backtest:gluonts[metric-wQuantileLoss[0.5]]: 0.08216094024474391\n",
      "INFO:gluonts.evaluation.backtest:gluonts[metric-wQuantileLoss[0.9]]: 0.05800486672283075\n",
      "INFO:gluonts.evaluation.backtest:gluonts[metric-mean_wQuantileLoss]: 0.05849414886329916\n",
      "INFO:gluonts.evaluation.backtest:gluonts[metric-MAE_Coverage]: 0.12423230974632866\n"
     ]
    }
   ],
   "source": [
    "# Evaluation\n",
    "evaluator=Evaluator(quantiles=(0.1, 0.5, 0.9))\n",
    "\n",
    "agg_metrics, item_metrics = backtest_metrics(\n",
    "train_dataset=train_ds,\n",
    "test_dataset=test_ds,\n",
    "forecaster=predictor,\n",
    "evaluator=evaluator\n",
    ")"
   ]
  },
  {
   "cell_type": "code",
   "execution_count": 9,
   "metadata": {},
   "outputs": [
    {
     "name": "stdout",
     "output_type": "stream",
     "text": [
      "shape item_metrics: (2247, 15)\n",
      "\n",
      "agg_metrics:\n",
      " {'MSE': 3223757.449933621, 'abs_error': 43375386.31700897, 'abs_target_sum': 527931960.0, 'abs_target_mean': 2349.4969292389815, 'seasonal_error': 189.61848951639666, 'MASE': 0.9678483959106805, 'sMAPE': 0.12723037619257357, 'MSIS': 12.031995403815534, 'QuantileLoss[0.1]': 18644782.776426546, 'Coverage[0.1]': 0.06034267912772619, 'QuantileLoss[0.5]': 43375386.21885053, 'Coverage[0.5]': 0.3024032042723639, 'QuantileLoss[0.9]': 30622622.978522815, 'Coverage[0.9]': 0.7645571873609239, 'RMSE': 1795.4825117314904, 'NRMSE': 0.7641987054279997, 'ND': 0.08216094043067401, 'wQuantileLoss[0.1]': 0.03531663962232282, 'wQuantileLoss[0.5]': 0.08216094024474391, 'wQuantileLoss[0.9]': 0.05800486672283075, 'mean_wQuantileLoss': 0.05849414886329916, 'MAE_Coverage': 0.12423230974632866}\n"
     ]
    }
   ],
   "source": [
    "print(\"shape item_metrics:\", item_metrics.shape)\n",
    "print(\"\\nagg_metrics:\\n\", agg_metrics)"
   ]
  },
  {
   "cell_type": "code",
   "execution_count": 16,
   "metadata": {},
   "outputs": [
    {
     "name": "stdout",
     "output_type": "stream",
     "text": [
      "{'start': Timestamp('2012-01-01 00:00:00', freq='H'), 'target': array([14., 18., 21., ...,  6.,  9.,  7.], dtype=float32), 'feat_static_cat': array([0]), 'source': SourceContext(source=Span(path=WindowsPath('C:/Users/TM/.mxnet/gluon-ts/datasets/electricity/train/data.json'), line=1), row=1)}\n",
      "\n",
      " {'start': Timestamp('2012-01-01 00:00:00', freq='H'), 'target': array([14., 18., 21., ...,  8.,  8.,  6.], dtype=float32), 'feat_static_cat': array([0]), 'source': SourceContext(source=Span(path=WindowsPath('C:/Users/TM/.mxnet/gluon-ts/datasets/electricity/test/data.json'), line=1), row=1)}\n"
     ]
    }
   ],
   "source": [
    "# Check first time series\n",
    "print(list(train_ds)[0])\n",
    "print(\"\\n\", list(test_ds)[0])"
   ]
  }
 ],
 "metadata": {
  "kernelspec": {
   "display_name": "Python [conda env:Anaconda3]",
   "language": "python",
   "name": "conda-env-Anaconda3-py"
  },
  "language_info": {
   "codemirror_mode": {
    "name": "ipython",
    "version": 3
   },
   "file_extension": ".py",
   "mimetype": "text/x-python",
   "name": "python",
   "nbconvert_exporter": "python",
   "pygments_lexer": "ipython3",
   "version": "3.6.8"
  }
 },
 "nbformat": 4,
 "nbformat_minor": 2
}
