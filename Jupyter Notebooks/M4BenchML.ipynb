{
 "cells": [
  {
   "cell_type": "markdown",
   "metadata": {},
   "source": [
    "# M4 Competition Benchmarks ML \n",
    "\n",
    "The M4 Competition used eight traditional statistical benchmarks as well as two so-called \"ML benchmarks. \n",
    "\n",
    "The eight statistical benchmark methods: \n",
    "\n",
    "#### Three naive methods\n",
    "\n",
    "1. Simple naive forecast (`naive`): Using a simple naive method after deseasonalizing the data, i.e. taking the same value as the last observed. \n",
    "\n",
    "$$\n",
    "\\hat{y}_{T+h|T} = y_T\n",
    "$$\n",
    "\n",
    "2. Seasonal naive method (`snaive`): Set each forecast to be equal to the last observed from the same season. \n",
    "\n",
    "$$ \n",
    "\\hat{y}_{T+h|T} = y_{T+h-m(k+1)}\n",
    "$$\n",
    "\n",
    "3. Naive2 (`naive2`): Apply naive method after deseasonalizing the series. Add the seasonal comoponents to the forecast horizon. \n",
    "\n",
    "#### Exponential smoothing methods\n",
    "\n",
    "4. Simple exponential smoothing (`ses`): SES forecasts are calculated using weighted averages, where the weights on the last observations decrease exponentially. Here, the ses is applied on the deseasonalized data and afterwards the data is reseasonalized (adding seasonal components). \n",
    "\n",
    "5. Holt's exponential smoothing method (`holt`): Extension of SES to include a trend. \n",
    "\n",
    "6. Holt's method with damped trend (`damped`): the linear trend is damped to approach overforecasting. \n",
    "\n",
    "#### Other statistical benchmarks\n",
    "\n",
    "7. Theta method (`theta`) : Described in Assimakopoulos and Nikopoulos (2000). Hyndman and Billah (2001) showed that this method yields forecasts equivalent to simple exponential smoothing with drift. \n",
    "\n",
    "8. Combination method (`comb`): Combination of siple exponential smoothing (ses), Holt's exponential smoothing (`holt`) and Holt's exponential smoothing with damped trend (`damped`)."
   ]
  }
 ],
 "metadata": {
  "kernelspec": {
   "display_name": "Python [default]",
   "language": "python",
   "name": "python3"
  },
  "language_info": {
   "codemirror_mode": {
    "name": "ipython",
    "version": 3
   },
   "file_extension": ".py",
   "mimetype": "text/x-python",
   "name": "python",
   "nbconvert_exporter": "python",
   "pygments_lexer": "ipython3",
   "version": "3.6.6"
  }
 },
 "nbformat": 4,
 "nbformat_minor": 2
}
